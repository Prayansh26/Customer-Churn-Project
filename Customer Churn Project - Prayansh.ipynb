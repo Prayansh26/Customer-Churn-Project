{
  "nbformat": 4,
  "nbformat_minor": 0,
  "metadata": {
    "colab": {
      "name": "Group3_Project.ipynb",
      "provenance": [],
      "collapsed_sections": []
    },
    "kernelspec": {
      "name": "python3",
      "display_name": "Python 3"
    },
    "language_info": {
      "name": "python"
    }
  },
  "cells": [
    {
      "cell_type": "markdown",
      "source": [
        "##Project - Customer Churn Rate Prediction"
      ],
      "metadata": {
        "id": "5MACfmixRcBm"
      }
    },
    {
      "cell_type": "code",
      "source": [
        "#importing Libraries and Dataset\n",
        "import pandas as pd\n",
        "import seaborn as sns\n",
        "from google.colab import files\n",
        "import numpy as np\n",
        "from datetime import datetime\n",
        "from datetime import date\n",
        "import matplotlib.pyplot as plt\n",
        "\n",
        "files=files.upload()\n",
        "df=pd.read_csv('churn.csv',index_col=0)\n",
        "\n",
        "df.head(10)"
      ],
      "metadata": {
        "colab": {
          "resources": {
            "http://localhost:8080/nbextensions/google.colab/files.js": {
              "data": "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",
              "ok": true,
              "headers": [
                [
                  "content-type",
                  "application/javascript"
                ]
              ],
              "status": 200,
              "status_text": ""
            }
          },
          "base_uri": "https://localhost:8080/",
          "height": 807
        },
        "id": "PRFSqY-7HEhq",
        "outputId": "76ddf461-5e04-431c-aed3-27d004d5de40"
      },
      "execution_count": null,
      "outputs": [
        {
          "output_type": "display_data",
          "data": {
            "text/plain": [
              "<IPython.core.display.HTML object>"
            ],
            "text/html": [
              "\n",
              "     <input type=\"file\" id=\"files-1f1af38d-0555-4ae1-9de2-79f7c3ca6501\" name=\"files[]\" multiple disabled\n",
              "        style=\"border:none\" />\n",
              "     <output id=\"result-1f1af38d-0555-4ae1-9de2-79f7c3ca6501\">\n",
              "      Upload widget is only available when the cell has been executed in the\n",
              "      current browser session. Please rerun this cell to enable.\n",
              "      </output>\n",
              "      <script src=\"/nbextensions/google.colab/files.js\"></script> "
            ]
          },
          "metadata": {}
        },
        {
          "output_type": "stream",
          "name": "stdout",
          "text": [
            "Saving churn.csv to churn (2).csv\n"
          ]
        },
        {
          "output_type": "execute_result",
          "data": {
            "text/plain": [
              "   age gender security_no region_category  membership_category joining_date  \\\n",
              "0   18      F     XW0DQ7H         Village  Platinum Membership   2017-08-17   \n",
              "1   32      F     5K0N3X1            City   Premium Membership   2017-08-28   \n",
              "2   44      F     1F2TCL3            Town        No Membership   2016-11-11   \n",
              "3   37      M     VJGJ33N            City        No Membership   2016-10-29   \n",
              "4   31      F     SVZXCWB            City        No Membership   2017-09-12   \n",
              "5   13      M     PSG1LGF            City      Gold Membership   2016-01-08   \n",
              "6   21      M     R3CX1EA            Town      Gold Membership   2015-03-19   \n",
              "7   42      M     4UJ1551             NaN        No Membership   2016-07-12   \n",
              "8   44      M     0481QNQ         Village    Silver Membership   2016-12-14   \n",
              "9   45      F     ZHP4MCR            Town        No Membership   2016-11-30   \n",
              "\n",
              "  joined_through_referral referral_id     preferred_offer_types  \\\n",
              "0                      No    xxxxxxxx     Gift Vouchers/Coupons   \n",
              "1                       ?    CID21329     Gift Vouchers/Coupons   \n",
              "2                     Yes    CID12313     Gift Vouchers/Coupons   \n",
              "3                     Yes     CID3793     Gift Vouchers/Coupons   \n",
              "4                      No    xxxxxxxx  Credit/Debit Card Offers   \n",
              "5                      No    xxxxxxxx     Gift Vouchers/Coupons   \n",
              "6                     Yes    CID24708     Gift Vouchers/Coupons   \n",
              "7                       ?    CID56614  Credit/Debit Card Offers   \n",
              "8                      No    xxxxxxxx            Without Offers   \n",
              "9                      No    xxxxxxxx     Gift Vouchers/Coupons   \n",
              "\n",
              "  medium_of_operation  ... avg_time_spent avg_transaction_value  \\\n",
              "0                   ?  ...         300.63              53005.25   \n",
              "1             Desktop  ...         306.34              12838.38   \n",
              "2             Desktop  ...         516.16              21027.00   \n",
              "3             Desktop  ...          53.27              25239.56   \n",
              "4          Smartphone  ...         113.13              24483.66   \n",
              "5                   ?  ...         433.62              13884.77   \n",
              "6             Desktop  ...          55.38               8982.50   \n",
              "7                Both  ...         429.11              44554.82   \n",
              "8          Smartphone  ...         191.07              18362.31   \n",
              "9                   ?  ...          97.31              19244.16   \n",
              "\n",
              "   avg_frequency_login_days  points_in_wallet  used_special_discount  \\\n",
              "0                      17.0            781.75                    Yes   \n",
              "1                      10.0               NaN                    Yes   \n",
              "2                      22.0            500.69                     No   \n",
              "3                       6.0            567.66                     No   \n",
              "4                      16.0            663.06                     No   \n",
              "5                      24.0            722.27                    Yes   \n",
              "6                      28.0            756.21                    Yes   \n",
              "7                      24.0            568.08                     No   \n",
              "8                      20.0               NaN                    Yes   \n",
              "9                      28.0            706.23                     No   \n",
              "\n",
              "  offer_application_preference  past_complaint          complaint_status  \\\n",
              "0                          Yes              No            Not Applicable   \n",
              "1                           No             Yes                    Solved   \n",
              "2                          Yes             Yes       Solved in Follow-up   \n",
              "3                          Yes             Yes                  Unsolved   \n",
              "4                          Yes             Yes                    Solved   \n",
              "5                           No             Yes                  Unsolved   \n",
              "6                           No             Yes       Solved in Follow-up   \n",
              "7                          Yes             Yes                  Unsolved   \n",
              "8                           No             Yes       Solved in Follow-up   \n",
              "9                          Yes             Yes  No Information Available   \n",
              "\n",
              "                   feedback churn_risk_score  \n",
              "0  Products always in Stock                0  \n",
              "1     Quality Customer Care                0  \n",
              "2              Poor Website                1  \n",
              "3              Poor Website                1  \n",
              "4              Poor Website                1  \n",
              "5       No reason specified                0  \n",
              "6       No reason specified                0  \n",
              "7      Poor Product Quality                1  \n",
              "8     Poor Customer Service                0  \n",
              "9     Poor Customer Service                1  \n",
              "\n",
              "[10 rows x 23 columns]"
            ],
            "text/html": [
              "\n",
              "  <div id=\"df-20f4ab53-9d29-4f27-90d0-1a70d84ea515\">\n",
              "    <div class=\"colab-df-container\">\n",
              "      <div>\n",
              "<style scoped>\n",
              "    .dataframe tbody tr th:only-of-type {\n",
              "        vertical-align: middle;\n",
              "    }\n",
              "\n",
              "    .dataframe tbody tr th {\n",
              "        vertical-align: top;\n",
              "    }\n",
              "\n",
              "    .dataframe thead th {\n",
              "        text-align: right;\n",
              "    }\n",
              "</style>\n",
              "<table border=\"1\" class=\"dataframe\">\n",
              "  <thead>\n",
              "    <tr style=\"text-align: right;\">\n",
              "      <th></th>\n",
              "      <th>age</th>\n",
              "      <th>gender</th>\n",
              "      <th>security_no</th>\n",
              "      <th>region_category</th>\n",
              "      <th>membership_category</th>\n",
              "      <th>joining_date</th>\n",
              "      <th>joined_through_referral</th>\n",
              "      <th>referral_id</th>\n",
              "      <th>preferred_offer_types</th>\n",
              "      <th>medium_of_operation</th>\n",
              "      <th>...</th>\n",
              "      <th>avg_time_spent</th>\n",
              "      <th>avg_transaction_value</th>\n",
              "      <th>avg_frequency_login_days</th>\n",
              "      <th>points_in_wallet</th>\n",
              "      <th>used_special_discount</th>\n",
              "      <th>offer_application_preference</th>\n",
              "      <th>past_complaint</th>\n",
              "      <th>complaint_status</th>\n",
              "      <th>feedback</th>\n",
              "      <th>churn_risk_score</th>\n",
              "    </tr>\n",
              "  </thead>\n",
              "  <tbody>\n",
              "    <tr>\n",
              "      <th>0</th>\n",
              "      <td>18</td>\n",
              "      <td>F</td>\n",
              "      <td>XW0DQ7H</td>\n",
              "      <td>Village</td>\n",
              "      <td>Platinum Membership</td>\n",
              "      <td>2017-08-17</td>\n",
              "      <td>No</td>\n",
              "      <td>xxxxxxxx</td>\n",
              "      <td>Gift Vouchers/Coupons</td>\n",
              "      <td>?</td>\n",
              "      <td>...</td>\n",
              "      <td>300.63</td>\n",
              "      <td>53005.25</td>\n",
              "      <td>17.0</td>\n",
              "      <td>781.75</td>\n",
              "      <td>Yes</td>\n",
              "      <td>Yes</td>\n",
              "      <td>No</td>\n",
              "      <td>Not Applicable</td>\n",
              "      <td>Products always in Stock</td>\n",
              "      <td>0</td>\n",
              "    </tr>\n",
              "    <tr>\n",
              "      <th>1</th>\n",
              "      <td>32</td>\n",
              "      <td>F</td>\n",
              "      <td>5K0N3X1</td>\n",
              "      <td>City</td>\n",
              "      <td>Premium Membership</td>\n",
              "      <td>2017-08-28</td>\n",
              "      <td>?</td>\n",
              "      <td>CID21329</td>\n",
              "      <td>Gift Vouchers/Coupons</td>\n",
              "      <td>Desktop</td>\n",
              "      <td>...</td>\n",
              "      <td>306.34</td>\n",
              "      <td>12838.38</td>\n",
              "      <td>10.0</td>\n",
              "      <td>NaN</td>\n",
              "      <td>Yes</td>\n",
              "      <td>No</td>\n",
              "      <td>Yes</td>\n",
              "      <td>Solved</td>\n",
              "      <td>Quality Customer Care</td>\n",
              "      <td>0</td>\n",
              "    </tr>\n",
              "    <tr>\n",
              "      <th>2</th>\n",
              "      <td>44</td>\n",
              "      <td>F</td>\n",
              "      <td>1F2TCL3</td>\n",
              "      <td>Town</td>\n",
              "      <td>No Membership</td>\n",
              "      <td>2016-11-11</td>\n",
              "      <td>Yes</td>\n",
              "      <td>CID12313</td>\n",
              "      <td>Gift Vouchers/Coupons</td>\n",
              "      <td>Desktop</td>\n",
              "      <td>...</td>\n",
              "      <td>516.16</td>\n",
              "      <td>21027.00</td>\n",
              "      <td>22.0</td>\n",
              "      <td>500.69</td>\n",
              "      <td>No</td>\n",
              "      <td>Yes</td>\n",
              "      <td>Yes</td>\n",
              "      <td>Solved in Follow-up</td>\n",
              "      <td>Poor Website</td>\n",
              "      <td>1</td>\n",
              "    </tr>\n",
              "    <tr>\n",
              "      <th>3</th>\n",
              "      <td>37</td>\n",
              "      <td>M</td>\n",
              "      <td>VJGJ33N</td>\n",
              "      <td>City</td>\n",
              "      <td>No Membership</td>\n",
              "      <td>2016-10-29</td>\n",
              "      <td>Yes</td>\n",
              "      <td>CID3793</td>\n",
              "      <td>Gift Vouchers/Coupons</td>\n",
              "      <td>Desktop</td>\n",
              "      <td>...</td>\n",
              "      <td>53.27</td>\n",
              "      <td>25239.56</td>\n",
              "      <td>6.0</td>\n",
              "      <td>567.66</td>\n",
              "      <td>No</td>\n",
              "      <td>Yes</td>\n",
              "      <td>Yes</td>\n",
              "      <td>Unsolved</td>\n",
              "      <td>Poor Website</td>\n",
              "      <td>1</td>\n",
              "    </tr>\n",
              "    <tr>\n",
              "      <th>4</th>\n",
              "      <td>31</td>\n",
              "      <td>F</td>\n",
              "      <td>SVZXCWB</td>\n",
              "      <td>City</td>\n",
              "      <td>No Membership</td>\n",
              "      <td>2017-09-12</td>\n",
              "      <td>No</td>\n",
              "      <td>xxxxxxxx</td>\n",
              "      <td>Credit/Debit Card Offers</td>\n",
              "      <td>Smartphone</td>\n",
              "      <td>...</td>\n",
              "      <td>113.13</td>\n",
              "      <td>24483.66</td>\n",
              "      <td>16.0</td>\n",
              "      <td>663.06</td>\n",
              "      <td>No</td>\n",
              "      <td>Yes</td>\n",
              "      <td>Yes</td>\n",
              "      <td>Solved</td>\n",
              "      <td>Poor Website</td>\n",
              "      <td>1</td>\n",
              "    </tr>\n",
              "    <tr>\n",
              "      <th>5</th>\n",
              "      <td>13</td>\n",
              "      <td>M</td>\n",
              "      <td>PSG1LGF</td>\n",
              "      <td>City</td>\n",
              "      <td>Gold Membership</td>\n",
              "      <td>2016-01-08</td>\n",
              "      <td>No</td>\n",
              "      <td>xxxxxxxx</td>\n",
              "      <td>Gift Vouchers/Coupons</td>\n",
              "      <td>?</td>\n",
              "      <td>...</td>\n",
              "      <td>433.62</td>\n",
              "      <td>13884.77</td>\n",
              "      <td>24.0</td>\n",
              "      <td>722.27</td>\n",
              "      <td>Yes</td>\n",
              "      <td>No</td>\n",
              "      <td>Yes</td>\n",
              "      <td>Unsolved</td>\n",
              "      <td>No reason specified</td>\n",
              "      <td>0</td>\n",
              "    </tr>\n",
              "    <tr>\n",
              "      <th>6</th>\n",
              "      <td>21</td>\n",
              "      <td>M</td>\n",
              "      <td>R3CX1EA</td>\n",
              "      <td>Town</td>\n",
              "      <td>Gold Membership</td>\n",
              "      <td>2015-03-19</td>\n",
              "      <td>Yes</td>\n",
              "      <td>CID24708</td>\n",
              "      <td>Gift Vouchers/Coupons</td>\n",
              "      <td>Desktop</td>\n",
              "      <td>...</td>\n",
              "      <td>55.38</td>\n",
              "      <td>8982.50</td>\n",
              "      <td>28.0</td>\n",
              "      <td>756.21</td>\n",
              "      <td>Yes</td>\n",
              "      <td>No</td>\n",
              "      <td>Yes</td>\n",
              "      <td>Solved in Follow-up</td>\n",
              "      <td>No reason specified</td>\n",
              "      <td>0</td>\n",
              "    </tr>\n",
              "    <tr>\n",
              "      <th>7</th>\n",
              "      <td>42</td>\n",
              "      <td>M</td>\n",
              "      <td>4UJ1551</td>\n",
              "      <td>NaN</td>\n",
              "      <td>No Membership</td>\n",
              "      <td>2016-07-12</td>\n",
              "      <td>?</td>\n",
              "      <td>CID56614</td>\n",
              "      <td>Credit/Debit Card Offers</td>\n",
              "      <td>Both</td>\n",
              "      <td>...</td>\n",
              "      <td>429.11</td>\n",
              "      <td>44554.82</td>\n",
              "      <td>24.0</td>\n",
              "      <td>568.08</td>\n",
              "      <td>No</td>\n",
              "      <td>Yes</td>\n",
              "      <td>Yes</td>\n",
              "      <td>Unsolved</td>\n",
              "      <td>Poor Product Quality</td>\n",
              "      <td>1</td>\n",
              "    </tr>\n",
              "    <tr>\n",
              "      <th>8</th>\n",
              "      <td>44</td>\n",
              "      <td>M</td>\n",
              "      <td>0481QNQ</td>\n",
              "      <td>Village</td>\n",
              "      <td>Silver Membership</td>\n",
              "      <td>2016-12-14</td>\n",
              "      <td>No</td>\n",
              "      <td>xxxxxxxx</td>\n",
              "      <td>Without Offers</td>\n",
              "      <td>Smartphone</td>\n",
              "      <td>...</td>\n",
              "      <td>191.07</td>\n",
              "      <td>18362.31</td>\n",
              "      <td>20.0</td>\n",
              "      <td>NaN</td>\n",
              "      <td>Yes</td>\n",
              "      <td>No</td>\n",
              "      <td>Yes</td>\n",
              "      <td>Solved in Follow-up</td>\n",
              "      <td>Poor Customer Service</td>\n",
              "      <td>0</td>\n",
              "    </tr>\n",
              "    <tr>\n",
              "      <th>9</th>\n",
              "      <td>45</td>\n",
              "      <td>F</td>\n",
              "      <td>ZHP4MCR</td>\n",
              "      <td>Town</td>\n",
              "      <td>No Membership</td>\n",
              "      <td>2016-11-30</td>\n",
              "      <td>No</td>\n",
              "      <td>xxxxxxxx</td>\n",
              "      <td>Gift Vouchers/Coupons</td>\n",
              "      <td>?</td>\n",
              "      <td>...</td>\n",
              "      <td>97.31</td>\n",
              "      <td>19244.16</td>\n",
              "      <td>28.0</td>\n",
              "      <td>706.23</td>\n",
              "      <td>No</td>\n",
              "      <td>Yes</td>\n",
              "      <td>Yes</td>\n",
              "      <td>No Information Available</td>\n",
              "      <td>Poor Customer Service</td>\n",
              "      <td>1</td>\n",
              "    </tr>\n",
              "  </tbody>\n",
              "</table>\n",
              "<p>10 rows × 23 columns</p>\n",
              "</div>\n",
              "      <button class=\"colab-df-convert\" onclick=\"convertToInteractive('df-20f4ab53-9d29-4f27-90d0-1a70d84ea515')\"\n",
              "              title=\"Convert this dataframe to an interactive table.\"\n",
              "              style=\"display:none;\">\n",
              "        \n",
              "  <svg xmlns=\"http://www.w3.org/2000/svg\" height=\"24px\"viewBox=\"0 0 24 24\"\n",
              "       width=\"24px\">\n",
              "    <path d=\"M0 0h24v24H0V0z\" fill=\"none\"/>\n",
              "    <path d=\"M18.56 5.44l.94 2.06.94-2.06 2.06-.94-2.06-.94-.94-2.06-.94 2.06-2.06.94zm-11 1L8.5 8.5l.94-2.06 2.06-.94-2.06-.94L8.5 2.5l-.94 2.06-2.06.94zm10 10l.94 2.06.94-2.06 2.06-.94-2.06-.94-.94-2.06-.94 2.06-2.06.94z\"/><path d=\"M17.41 7.96l-1.37-1.37c-.4-.4-.92-.59-1.43-.59-.52 0-1.04.2-1.43.59L10.3 9.45l-7.72 7.72c-.78.78-.78 2.05 0 2.83L4 21.41c.39.39.9.59 1.41.59.51 0 1.02-.2 1.41-.59l7.78-7.78 2.81-2.81c.8-.78.8-2.07 0-2.86zM5.41 20L4 18.59l7.72-7.72 1.47 1.35L5.41 20z\"/>\n",
              "  </svg>\n",
              "      </button>\n",
              "      \n",
              "  <style>\n",
              "    .colab-df-container {\n",
              "      display:flex;\n",
              "      flex-wrap:wrap;\n",
              "      gap: 12px;\n",
              "    }\n",
              "\n",
              "    .colab-df-convert {\n",
              "      background-color: #E8F0FE;\n",
              "      border: none;\n",
              "      border-radius: 50%;\n",
              "      cursor: pointer;\n",
              "      display: none;\n",
              "      fill: #1967D2;\n",
              "      height: 32px;\n",
              "      padding: 0 0 0 0;\n",
              "      width: 32px;\n",
              "    }\n",
              "\n",
              "    .colab-df-convert:hover {\n",
              "      background-color: #E2EBFA;\n",
              "      box-shadow: 0px 1px 2px rgba(60, 64, 67, 0.3), 0px 1px 3px 1px rgba(60, 64, 67, 0.15);\n",
              "      fill: #174EA6;\n",
              "    }\n",
              "\n",
              "    [theme=dark] .colab-df-convert {\n",
              "      background-color: #3B4455;\n",
              "      fill: #D2E3FC;\n",
              "    }\n",
              "\n",
              "    [theme=dark] .colab-df-convert:hover {\n",
              "      background-color: #434B5C;\n",
              "      box-shadow: 0px 1px 3px 1px rgba(0, 0, 0, 0.15);\n",
              "      filter: drop-shadow(0px 1px 2px rgba(0, 0, 0, 0.3));\n",
              "      fill: #FFFFFF;\n",
              "    }\n",
              "  </style>\n",
              "\n",
              "      <script>\n",
              "        const buttonEl =\n",
              "          document.querySelector('#df-20f4ab53-9d29-4f27-90d0-1a70d84ea515 button.colab-df-convert');\n",
              "        buttonEl.style.display =\n",
              "          google.colab.kernel.accessAllowed ? 'block' : 'none';\n",
              "\n",
              "        async function convertToInteractive(key) {\n",
              "          const element = document.querySelector('#df-20f4ab53-9d29-4f27-90d0-1a70d84ea515');\n",
              "          const dataTable =\n",
              "            await google.colab.kernel.invokeFunction('convertToInteractive',\n",
              "                                                     [key], {});\n",
              "          if (!dataTable) return;\n",
              "\n",
              "          const docLinkHtml = 'Like what you see? Visit the ' +\n",
              "            '<a target=\"_blank\" href=https://colab.research.google.com/notebooks/data_table.ipynb>data table notebook</a>'\n",
              "            + ' to learn more about interactive tables.';\n",
              "          element.innerHTML = '';\n",
              "          dataTable['output_type'] = 'display_data';\n",
              "          await google.colab.output.renderOutput(dataTable, element);\n",
              "          const docLink = document.createElement('div');\n",
              "          docLink.innerHTML = docLinkHtml;\n",
              "          element.appendChild(docLink);\n",
              "        }\n",
              "      </script>\n",
              "    </div>\n",
              "  </div>\n",
              "  "
            ]
          },
          "metadata": {},
          "execution_count": 116
        }
      ]
    },
    {
      "cell_type": "markdown",
      "source": [
        "### Data Description"
      ],
      "metadata": {
        "id": "QW_CRfWHRuD4"
      }
    },
    {
      "cell_type": "code",
      "source": [
        "df.describe(include='all')"
      ],
      "metadata": {
        "colab": {
          "base_uri": "https://localhost:8080/",
          "height": 522
        },
        "id": "chMRRiUXHK8t",
        "outputId": "1e3b3139-4c65-4349-c5f9-29917c734d43"
      },
      "execution_count": null,
      "outputs": [
        {
          "output_type": "execute_result",
          "data": {
            "text/plain": [
              "                 age gender security_no region_category membership_category  \\\n",
              "count   36992.000000  36992       36992           31564               36992   \n",
              "unique           NaN      3       36992               3                   6   \n",
              "top              NaN      F     XW0DQ7H            Town    Basic Membership   \n",
              "freq             NaN  18490           1           14128                7724   \n",
              "mean       37.118161    NaN         NaN             NaN                 NaN   \n",
              "std        15.867412    NaN         NaN             NaN                 NaN   \n",
              "min        10.000000    NaN         NaN             NaN                 NaN   \n",
              "25%        23.000000    NaN         NaN             NaN                 NaN   \n",
              "50%        37.000000    NaN         NaN             NaN                 NaN   \n",
              "75%        51.000000    NaN         NaN             NaN                 NaN   \n",
              "max        64.000000    NaN         NaN             NaN                 NaN   \n",
              "\n",
              "       joining_date joined_through_referral referral_id  \\\n",
              "count         36992                   36992       36992   \n",
              "unique         1096                       3       11359   \n",
              "top      2015-06-02                      No    xxxxxxxx   \n",
              "freq             55                   15839       17846   \n",
              "mean            NaN                     NaN         NaN   \n",
              "std             NaN                     NaN         NaN   \n",
              "min             NaN                     NaN         NaN   \n",
              "25%             NaN                     NaN         NaN   \n",
              "50%             NaN                     NaN         NaN   \n",
              "75%             NaN                     NaN         NaN   \n",
              "max             NaN                     NaN         NaN   \n",
              "\n",
              "        preferred_offer_types medium_of_operation  ... avg_time_spent  \\\n",
              "count                   36704               36992  ...   36992.000000   \n",
              "unique                      3                   4  ...            NaN   \n",
              "top     Gift Vouchers/Coupons             Desktop  ...            NaN   \n",
              "freq                    12349               13913  ...            NaN   \n",
              "mean                      NaN                 NaN  ...     243.472334   \n",
              "std                       NaN                 NaN  ...     398.289149   \n",
              "min                       NaN                 NaN  ...   -2814.109110   \n",
              "25%                       NaN                 NaN  ...      60.102500   \n",
              "50%                       NaN                 NaN  ...     161.765000   \n",
              "75%                       NaN                 NaN  ...     356.515000   \n",
              "max                       NaN                 NaN  ...    3235.578521   \n",
              "\n",
              "       avg_transaction_value  avg_frequency_login_days  points_in_wallet  \\\n",
              "count           36992.000000                     36992      33549.000000   \n",
              "unique                   NaN                      1654               NaN   \n",
              "top                      NaN                     Error               NaN   \n",
              "freq                     NaN                      3522               NaN   \n",
              "mean            29271.194003                       NaN        686.882199   \n",
              "std             19444.806226                       NaN        194.063624   \n",
              "min               800.460000                       NaN       -760.661236   \n",
              "25%             14177.540000                       NaN        616.150000   \n",
              "50%             27554.485000                       NaN        697.620000   \n",
              "75%             40855.110000                       NaN        763.950000   \n",
              "max             99914.050000                       NaN       2069.069761   \n",
              "\n",
              "        used_special_discount offer_application_preference  past_complaint  \\\n",
              "count                   36992                        36992           36992   \n",
              "unique                      2                            2               2   \n",
              "top                       Yes                          Yes              No   \n",
              "freq                    20342                        20440           18602   \n",
              "mean                      NaN                          NaN             NaN   \n",
              "std                       NaN                          NaN             NaN   \n",
              "min                       NaN                          NaN             NaN   \n",
              "25%                       NaN                          NaN             NaN   \n",
              "50%                       NaN                          NaN             NaN   \n",
              "75%                       NaN                          NaN             NaN   \n",
              "max                       NaN                          NaN             NaN   \n",
              "\n",
              "       complaint_status              feedback churn_risk_score  \n",
              "count             36992                 36992     36992.000000  \n",
              "unique                5                     9              NaN  \n",
              "top      Not Applicable  Poor Product Quality              NaN  \n",
              "freq              18602                  6350              NaN  \n",
              "mean                NaN                   NaN         0.540982  \n",
              "std                 NaN                   NaN         0.498324  \n",
              "min                 NaN                   NaN         0.000000  \n",
              "25%                 NaN                   NaN         0.000000  \n",
              "50%                 NaN                   NaN         1.000000  \n",
              "75%                 NaN                   NaN         1.000000  \n",
              "max                 NaN                   NaN         1.000000  \n",
              "\n",
              "[11 rows x 23 columns]"
            ],
            "text/html": [
              "\n",
              "  <div id=\"df-f5fe180a-4898-439e-b880-99c98bfa30ed\">\n",
              "    <div class=\"colab-df-container\">\n",
              "      <div>\n",
              "<style scoped>\n",
              "    .dataframe tbody tr th:only-of-type {\n",
              "        vertical-align: middle;\n",
              "    }\n",
              "\n",
              "    .dataframe tbody tr th {\n",
              "        vertical-align: top;\n",
              "    }\n",
              "\n",
              "    .dataframe thead th {\n",
              "        text-align: right;\n",
              "    }\n",
              "</style>\n",
              "<table border=\"1\" class=\"dataframe\">\n",
              "  <thead>\n",
              "    <tr style=\"text-align: right;\">\n",
              "      <th></th>\n",
              "      <th>age</th>\n",
              "      <th>gender</th>\n",
              "      <th>security_no</th>\n",
              "      <th>region_category</th>\n",
              "      <th>membership_category</th>\n",
              "      <th>joining_date</th>\n",
              "      <th>joined_through_referral</th>\n",
              "      <th>referral_id</th>\n",
              "      <th>preferred_offer_types</th>\n",
              "      <th>medium_of_operation</th>\n",
              "      <th>...</th>\n",
              "      <th>avg_time_spent</th>\n",
              "      <th>avg_transaction_value</th>\n",
              "      <th>avg_frequency_login_days</th>\n",
              "      <th>points_in_wallet</th>\n",
              "      <th>used_special_discount</th>\n",
              "      <th>offer_application_preference</th>\n",
              "      <th>past_complaint</th>\n",
              "      <th>complaint_status</th>\n",
              "      <th>feedback</th>\n",
              "      <th>churn_risk_score</th>\n",
              "    </tr>\n",
              "  </thead>\n",
              "  <tbody>\n",
              "    <tr>\n",
              "      <th>count</th>\n",
              "      <td>36992.000000</td>\n",
              "      <td>36992</td>\n",
              "      <td>36992</td>\n",
              "      <td>31564</td>\n",
              "      <td>36992</td>\n",
              "      <td>36992</td>\n",
              "      <td>36992</td>\n",
              "      <td>36992</td>\n",
              "      <td>36704</td>\n",
              "      <td>36992</td>\n",
              "      <td>...</td>\n",
              "      <td>36992.000000</td>\n",
              "      <td>36992.000000</td>\n",
              "      <td>36992</td>\n",
              "      <td>33549.000000</td>\n",
              "      <td>36992</td>\n",
              "      <td>36992</td>\n",
              "      <td>36992</td>\n",
              "      <td>36992</td>\n",
              "      <td>36992</td>\n",
              "      <td>36992.000000</td>\n",
              "    </tr>\n",
              "    <tr>\n",
              "      <th>unique</th>\n",
              "      <td>NaN</td>\n",
              "      <td>3</td>\n",
              "      <td>36992</td>\n",
              "      <td>3</td>\n",
              "      <td>6</td>\n",
              "      <td>1096</td>\n",
              "      <td>3</td>\n",
              "      <td>11359</td>\n",
              "      <td>3</td>\n",
              "      <td>4</td>\n",
              "      <td>...</td>\n",
              "      <td>NaN</td>\n",
              "      <td>NaN</td>\n",
              "      <td>1654</td>\n",
              "      <td>NaN</td>\n",
              "      <td>2</td>\n",
              "      <td>2</td>\n",
              "      <td>2</td>\n",
              "      <td>5</td>\n",
              "      <td>9</td>\n",
              "      <td>NaN</td>\n",
              "    </tr>\n",
              "    <tr>\n",
              "      <th>top</th>\n",
              "      <td>NaN</td>\n",
              "      <td>F</td>\n",
              "      <td>XW0DQ7H</td>\n",
              "      <td>Town</td>\n",
              "      <td>Basic Membership</td>\n",
              "      <td>2015-06-02</td>\n",
              "      <td>No</td>\n",
              "      <td>xxxxxxxx</td>\n",
              "      <td>Gift Vouchers/Coupons</td>\n",
              "      <td>Desktop</td>\n",
              "      <td>...</td>\n",
              "      <td>NaN</td>\n",
              "      <td>NaN</td>\n",
              "      <td>Error</td>\n",
              "      <td>NaN</td>\n",
              "      <td>Yes</td>\n",
              "      <td>Yes</td>\n",
              "      <td>No</td>\n",
              "      <td>Not Applicable</td>\n",
              "      <td>Poor Product Quality</td>\n",
              "      <td>NaN</td>\n",
              "    </tr>\n",
              "    <tr>\n",
              "      <th>freq</th>\n",
              "      <td>NaN</td>\n",
              "      <td>18490</td>\n",
              "      <td>1</td>\n",
              "      <td>14128</td>\n",
              "      <td>7724</td>\n",
              "      <td>55</td>\n",
              "      <td>15839</td>\n",
              "      <td>17846</td>\n",
              "      <td>12349</td>\n",
              "      <td>13913</td>\n",
              "      <td>...</td>\n",
              "      <td>NaN</td>\n",
              "      <td>NaN</td>\n",
              "      <td>3522</td>\n",
              "      <td>NaN</td>\n",
              "      <td>20342</td>\n",
              "      <td>20440</td>\n",
              "      <td>18602</td>\n",
              "      <td>18602</td>\n",
              "      <td>6350</td>\n",
              "      <td>NaN</td>\n",
              "    </tr>\n",
              "    <tr>\n",
              "      <th>mean</th>\n",
              "      <td>37.118161</td>\n",
              "      <td>NaN</td>\n",
              "      <td>NaN</td>\n",
              "      <td>NaN</td>\n",
              "      <td>NaN</td>\n",
              "      <td>NaN</td>\n",
              "      <td>NaN</td>\n",
              "      <td>NaN</td>\n",
              "      <td>NaN</td>\n",
              "      <td>NaN</td>\n",
              "      <td>...</td>\n",
              "      <td>243.472334</td>\n",
              "      <td>29271.194003</td>\n",
              "      <td>NaN</td>\n",
              "      <td>686.882199</td>\n",
              "      <td>NaN</td>\n",
              "      <td>NaN</td>\n",
              "      <td>NaN</td>\n",
              "      <td>NaN</td>\n",
              "      <td>NaN</td>\n",
              "      <td>0.540982</td>\n",
              "    </tr>\n",
              "    <tr>\n",
              "      <th>std</th>\n",
              "      <td>15.867412</td>\n",
              "      <td>NaN</td>\n",
              "      <td>NaN</td>\n",
              "      <td>NaN</td>\n",
              "      <td>NaN</td>\n",
              "      <td>NaN</td>\n",
              "      <td>NaN</td>\n",
              "      <td>NaN</td>\n",
              "      <td>NaN</td>\n",
              "      <td>NaN</td>\n",
              "      <td>...</td>\n",
              "      <td>398.289149</td>\n",
              "      <td>19444.806226</td>\n",
              "      <td>NaN</td>\n",
              "      <td>194.063624</td>\n",
              "      <td>NaN</td>\n",
              "      <td>NaN</td>\n",
              "      <td>NaN</td>\n",
              "      <td>NaN</td>\n",
              "      <td>NaN</td>\n",
              "      <td>0.498324</td>\n",
              "    </tr>\n",
              "    <tr>\n",
              "      <th>min</th>\n",
              "      <td>10.000000</td>\n",
              "      <td>NaN</td>\n",
              "      <td>NaN</td>\n",
              "      <td>NaN</td>\n",
              "      <td>NaN</td>\n",
              "      <td>NaN</td>\n",
              "      <td>NaN</td>\n",
              "      <td>NaN</td>\n",
              "      <td>NaN</td>\n",
              "      <td>NaN</td>\n",
              "      <td>...</td>\n",
              "      <td>-2814.109110</td>\n",
              "      <td>800.460000</td>\n",
              "      <td>NaN</td>\n",
              "      <td>-760.661236</td>\n",
              "      <td>NaN</td>\n",
              "      <td>NaN</td>\n",
              "      <td>NaN</td>\n",
              "      <td>NaN</td>\n",
              "      <td>NaN</td>\n",
              "      <td>0.000000</td>\n",
              "    </tr>\n",
              "    <tr>\n",
              "      <th>25%</th>\n",
              "      <td>23.000000</td>\n",
              "      <td>NaN</td>\n",
              "      <td>NaN</td>\n",
              "      <td>NaN</td>\n",
              "      <td>NaN</td>\n",
              "      <td>NaN</td>\n",
              "      <td>NaN</td>\n",
              "      <td>NaN</td>\n",
              "      <td>NaN</td>\n",
              "      <td>NaN</td>\n",
              "      <td>...</td>\n",
              "      <td>60.102500</td>\n",
              "      <td>14177.540000</td>\n",
              "      <td>NaN</td>\n",
              "      <td>616.150000</td>\n",
              "      <td>NaN</td>\n",
              "      <td>NaN</td>\n",
              "      <td>NaN</td>\n",
              "      <td>NaN</td>\n",
              "      <td>NaN</td>\n",
              "      <td>0.000000</td>\n",
              "    </tr>\n",
              "    <tr>\n",
              "      <th>50%</th>\n",
              "      <td>37.000000</td>\n",
              "      <td>NaN</td>\n",
              "      <td>NaN</td>\n",
              "      <td>NaN</td>\n",
              "      <td>NaN</td>\n",
              "      <td>NaN</td>\n",
              "      <td>NaN</td>\n",
              "      <td>NaN</td>\n",
              "      <td>NaN</td>\n",
              "      <td>NaN</td>\n",
              "      <td>...</td>\n",
              "      <td>161.765000</td>\n",
              "      <td>27554.485000</td>\n",
              "      <td>NaN</td>\n",
              "      <td>697.620000</td>\n",
              "      <td>NaN</td>\n",
              "      <td>NaN</td>\n",
              "      <td>NaN</td>\n",
              "      <td>NaN</td>\n",
              "      <td>NaN</td>\n",
              "      <td>1.000000</td>\n",
              "    </tr>\n",
              "    <tr>\n",
              "      <th>75%</th>\n",
              "      <td>51.000000</td>\n",
              "      <td>NaN</td>\n",
              "      <td>NaN</td>\n",
              "      <td>NaN</td>\n",
              "      <td>NaN</td>\n",
              "      <td>NaN</td>\n",
              "      <td>NaN</td>\n",
              "      <td>NaN</td>\n",
              "      <td>NaN</td>\n",
              "      <td>NaN</td>\n",
              "      <td>...</td>\n",
              "      <td>356.515000</td>\n",
              "      <td>40855.110000</td>\n",
              "      <td>NaN</td>\n",
              "      <td>763.950000</td>\n",
              "      <td>NaN</td>\n",
              "      <td>NaN</td>\n",
              "      <td>NaN</td>\n",
              "      <td>NaN</td>\n",
              "      <td>NaN</td>\n",
              "      <td>1.000000</td>\n",
              "    </tr>\n",
              "    <tr>\n",
              "      <th>max</th>\n",
              "      <td>64.000000</td>\n",
              "      <td>NaN</td>\n",
              "      <td>NaN</td>\n",
              "      <td>NaN</td>\n",
              "      <td>NaN</td>\n",
              "      <td>NaN</td>\n",
              "      <td>NaN</td>\n",
              "      <td>NaN</td>\n",
              "      <td>NaN</td>\n",
              "      <td>NaN</td>\n",
              "      <td>...</td>\n",
              "      <td>3235.578521</td>\n",
              "      <td>99914.050000</td>\n",
              "      <td>NaN</td>\n",
              "      <td>2069.069761</td>\n",
              "      <td>NaN</td>\n",
              "      <td>NaN</td>\n",
              "      <td>NaN</td>\n",
              "      <td>NaN</td>\n",
              "      <td>NaN</td>\n",
              "      <td>1.000000</td>\n",
              "    </tr>\n",
              "  </tbody>\n",
              "</table>\n",
              "<p>11 rows × 23 columns</p>\n",
              "</div>\n",
              "      <button class=\"colab-df-convert\" onclick=\"convertToInteractive('df-f5fe180a-4898-439e-b880-99c98bfa30ed')\"\n",
              "              title=\"Convert this dataframe to an interactive table.\"\n",
              "              style=\"display:none;\">\n",
              "        \n",
              "  <svg xmlns=\"http://www.w3.org/2000/svg\" height=\"24px\"viewBox=\"0 0 24 24\"\n",
              "       width=\"24px\">\n",
              "    <path d=\"M0 0h24v24H0V0z\" fill=\"none\"/>\n",
              "    <path d=\"M18.56 5.44l.94 2.06.94-2.06 2.06-.94-2.06-.94-.94-2.06-.94 2.06-2.06.94zm-11 1L8.5 8.5l.94-2.06 2.06-.94-2.06-.94L8.5 2.5l-.94 2.06-2.06.94zm10 10l.94 2.06.94-2.06 2.06-.94-2.06-.94-.94-2.06-.94 2.06-2.06.94z\"/><path d=\"M17.41 7.96l-1.37-1.37c-.4-.4-.92-.59-1.43-.59-.52 0-1.04.2-1.43.59L10.3 9.45l-7.72 7.72c-.78.78-.78 2.05 0 2.83L4 21.41c.39.39.9.59 1.41.59.51 0 1.02-.2 1.41-.59l7.78-7.78 2.81-2.81c.8-.78.8-2.07 0-2.86zM5.41 20L4 18.59l7.72-7.72 1.47 1.35L5.41 20z\"/>\n",
              "  </svg>\n",
              "      </button>\n",
              "      \n",
              "  <style>\n",
              "    .colab-df-container {\n",
              "      display:flex;\n",
              "      flex-wrap:wrap;\n",
              "      gap: 12px;\n",
              "    }\n",
              "\n",
              "    .colab-df-convert {\n",
              "      background-color: #E8F0FE;\n",
              "      border: none;\n",
              "      border-radius: 50%;\n",
              "      cursor: pointer;\n",
              "      display: none;\n",
              "      fill: #1967D2;\n",
              "      height: 32px;\n",
              "      padding: 0 0 0 0;\n",
              "      width: 32px;\n",
              "    }\n",
              "\n",
              "    .colab-df-convert:hover {\n",
              "      background-color: #E2EBFA;\n",
              "      box-shadow: 0px 1px 2px rgba(60, 64, 67, 0.3), 0px 1px 3px 1px rgba(60, 64, 67, 0.15);\n",
              "      fill: #174EA6;\n",
              "    }\n",
              "\n",
              "    [theme=dark] .colab-df-convert {\n",
              "      background-color: #3B4455;\n",
              "      fill: #D2E3FC;\n",
              "    }\n",
              "\n",
              "    [theme=dark] .colab-df-convert:hover {\n",
              "      background-color: #434B5C;\n",
              "      box-shadow: 0px 1px 3px 1px rgba(0, 0, 0, 0.15);\n",
              "      filter: drop-shadow(0px 1px 2px rgba(0, 0, 0, 0.3));\n",
              "      fill: #FFFFFF;\n",
              "    }\n",
              "  </style>\n",
              "\n",
              "      <script>\n",
              "        const buttonEl =\n",
              "          document.querySelector('#df-f5fe180a-4898-439e-b880-99c98bfa30ed button.colab-df-convert');\n",
              "        buttonEl.style.display =\n",
              "          google.colab.kernel.accessAllowed ? 'block' : 'none';\n",
              "\n",
              "        async function convertToInteractive(key) {\n",
              "          const element = document.querySelector('#df-f5fe180a-4898-439e-b880-99c98bfa30ed');\n",
              "          const dataTable =\n",
              "            await google.colab.kernel.invokeFunction('convertToInteractive',\n",
              "                                                     [key], {});\n",
              "          if (!dataTable) return;\n",
              "\n",
              "          const docLinkHtml = 'Like what you see? Visit the ' +\n",
              "            '<a target=\"_blank\" href=https://colab.research.google.com/notebooks/data_table.ipynb>data table notebook</a>'\n",
              "            + ' to learn more about interactive tables.';\n",
              "          element.innerHTML = '';\n",
              "          dataTable['output_type'] = 'display_data';\n",
              "          await google.colab.output.renderOutput(dataTable, element);\n",
              "          const docLink = document.createElement('div');\n",
              "          docLink.innerHTML = docLinkHtml;\n",
              "          element.appendChild(docLink);\n",
              "        }\n",
              "      </script>\n",
              "    </div>\n",
              "  </div>\n",
              "  "
            ]
          },
          "metadata": {},
          "execution_count": 117
        }
      ]
    },
    {
      "cell_type": "code",
      "source": [
        "# Checking nulls in the data\n",
        "df.isna().sum()*100/len(df)"
      ],
      "metadata": {
        "colab": {
          "base_uri": "https://localhost:8080/"
        },
        "id": "VGmyex_-IsT0",
        "outputId": "61eb6368-504c-4a3b-8990-a6ea933ca08b"
      },
      "execution_count": null,
      "outputs": [
        {
          "output_type": "execute_result",
          "data": {
            "text/plain": [
              "age                              0.000000\n",
              "gender                           0.000000\n",
              "security_no                      0.000000\n",
              "region_category                 14.673443\n",
              "membership_category              0.000000\n",
              "joining_date                     0.000000\n",
              "joined_through_referral          0.000000\n",
              "referral_id                      0.000000\n",
              "preferred_offer_types            0.778547\n",
              "medium_of_operation              0.000000\n",
              "internet_option                  0.000000\n",
              "last_visit_time                  0.000000\n",
              "days_since_last_login            0.000000\n",
              "avg_time_spent                   0.000000\n",
              "avg_transaction_value            0.000000\n",
              "avg_frequency_login_days         0.000000\n",
              "points_in_wallet                 9.307418\n",
              "used_special_discount            0.000000\n",
              "offer_application_preference     0.000000\n",
              "past_complaint                   0.000000\n",
              "complaint_status                 0.000000\n",
              "feedback                         0.000000\n",
              "churn_risk_score                 0.000000\n",
              "dtype: float64"
            ]
          },
          "metadata": {},
          "execution_count": 118
        }
      ]
    },
    {
      "cell_type": "code",
      "source": [
        "df['security_no'].duplicated().value_counts()"
      ],
      "metadata": {
        "colab": {
          "base_uri": "https://localhost:8080/"
        },
        "id": "u_Cn0-kSY-08",
        "outputId": "2974dfcf-72f1-4675-c9b8-9acfdf72c48a"
      },
      "execution_count": null,
      "outputs": [
        {
          "output_type": "execute_result",
          "data": {
            "text/plain": [
              "False    36992\n",
              "Name: security_no, dtype: int64"
            ]
          },
          "metadata": {},
          "execution_count": 119
        }
      ]
    },
    {
      "cell_type": "code",
      "source": [
        "df['gender'].value_counts()"
      ],
      "metadata": {
        "colab": {
          "base_uri": "https://localhost:8080/"
        },
        "id": "lMAXgeMsiJc2",
        "outputId": "67632948-7504-4fcd-fdc0-9e4485ca90fe"
      },
      "execution_count": null,
      "outputs": [
        {
          "output_type": "execute_result",
          "data": {
            "text/plain": [
              "F          18490\n",
              "M          18443\n",
              "Unknown       59\n",
              "Name: gender, dtype: int64"
            ]
          },
          "metadata": {},
          "execution_count": 120
        }
      ]
    },
    {
      "cell_type": "markdown",
      "source": [
        "### Data Pre-processing"
      ],
      "metadata": {
        "id": "VLGR9pAyR_C2"
      }
    },
    {
      "cell_type": "code",
      "source": [
        "# Replacing values in the data\n",
        "\n",
        "df['gender']=df['gender'].replace('Unknown',np.NaN)\n",
        "df['medium_of_operation']=df['medium_of_operation'].replace('?',np.NaN)\n",
        "df['days_since_last_login']=df['days_since_last_login'].replace(-999,np.NaN)\n",
        "df['avg_time_spent']=df['avg_time_spent'].apply(lambda x:x if x>0 else np.NaN)\n",
        "df['points_in_wallet']=df['points_in_wallet'].apply(lambda x:x if x>0 else np.NaN)"
      ],
      "metadata": {
        "id": "SA1eAF3riJah"
      },
      "execution_count": null,
      "outputs": []
    },
    {
      "cell_type": "code",
      "source": [
        "joined_through_referral=pd.Series([])\n",
        "for i in range (0,len(df)):\n",
        "  if df.iloc[i]['referral_id']=='xxxxxxxx':\n",
        "    joined_through_referral[i]=0\n",
        "  else :\n",
        "    joined_through_referral[i]=1\n",
        "df['joined_through_referral']=joined_through_referral\n",
        "df.head()"
      ],
      "metadata": {
        "colab": {
          "base_uri": "https://localhost:8080/",
          "height": 456
        },
        "id": "sD423_-TcSeA",
        "outputId": "746d7954-62b9-479a-e917-5806cf2b1e9f"
      },
      "execution_count": null,
      "outputs": [
        {
          "output_type": "stream",
          "name": "stderr",
          "text": [
            "/usr/local/lib/python3.7/dist-packages/ipykernel_launcher.py:1: DeprecationWarning: The default dtype for empty Series will be 'object' instead of 'float64' in a future version. Specify a dtype explicitly to silence this warning.\n",
            "  \"\"\"Entry point for launching an IPython kernel.\n"
          ]
        },
        {
          "output_type": "execute_result",
          "data": {
            "text/plain": [
              "   age gender security_no region_category  membership_category joining_date  \\\n",
              "0   18      F     XW0DQ7H         Village  Platinum Membership   2017-08-17   \n",
              "1   32      F     5K0N3X1            City   Premium Membership   2017-08-28   \n",
              "2   44      F     1F2TCL3            Town        No Membership   2016-11-11   \n",
              "3   37      M     VJGJ33N            City        No Membership   2016-10-29   \n",
              "4   31      F     SVZXCWB            City        No Membership   2017-09-12   \n",
              "\n",
              "   joined_through_referral referral_id     preferred_offer_types  \\\n",
              "0                        0    xxxxxxxx     Gift Vouchers/Coupons   \n",
              "1                        1    CID21329     Gift Vouchers/Coupons   \n",
              "2                        1    CID12313     Gift Vouchers/Coupons   \n",
              "3                        1     CID3793     Gift Vouchers/Coupons   \n",
              "4                        0    xxxxxxxx  Credit/Debit Card Offers   \n",
              "\n",
              "  medium_of_operation  ... avg_time_spent avg_transaction_value  \\\n",
              "0                 NaN  ...         300.63              53005.25   \n",
              "1             Desktop  ...         306.34              12838.38   \n",
              "2             Desktop  ...         516.16              21027.00   \n",
              "3             Desktop  ...          53.27              25239.56   \n",
              "4          Smartphone  ...         113.13              24483.66   \n",
              "\n",
              "   avg_frequency_login_days  points_in_wallet  used_special_discount  \\\n",
              "0                      17.0            781.75                    Yes   \n",
              "1                      10.0               NaN                    Yes   \n",
              "2                      22.0            500.69                     No   \n",
              "3                       6.0            567.66                     No   \n",
              "4                      16.0            663.06                     No   \n",
              "\n",
              "  offer_application_preference  past_complaint     complaint_status  \\\n",
              "0                          Yes              No       Not Applicable   \n",
              "1                           No             Yes               Solved   \n",
              "2                          Yes             Yes  Solved in Follow-up   \n",
              "3                          Yes             Yes             Unsolved   \n",
              "4                          Yes             Yes               Solved   \n",
              "\n",
              "                   feedback churn_risk_score  \n",
              "0  Products always in Stock                0  \n",
              "1     Quality Customer Care                0  \n",
              "2              Poor Website                1  \n",
              "3              Poor Website                1  \n",
              "4              Poor Website                1  \n",
              "\n",
              "[5 rows x 23 columns]"
            ],
            "text/html": [
              "\n",
              "  <div id=\"df-320a46eb-e043-46e2-94a0-72316b80f41c\">\n",
              "    <div class=\"colab-df-container\">\n",
              "      <div>\n",
              "<style scoped>\n",
              "    .dataframe tbody tr th:only-of-type {\n",
              "        vertical-align: middle;\n",
              "    }\n",
              "\n",
              "    .dataframe tbody tr th {\n",
              "        vertical-align: top;\n",
              "    }\n",
              "\n",
              "    .dataframe thead th {\n",
              "        text-align: right;\n",
              "    }\n",
              "</style>\n",
              "<table border=\"1\" class=\"dataframe\">\n",
              "  <thead>\n",
              "    <tr style=\"text-align: right;\">\n",
              "      <th></th>\n",
              "      <th>age</th>\n",
              "      <th>gender</th>\n",
              "      <th>security_no</th>\n",
              "      <th>region_category</th>\n",
              "      <th>membership_category</th>\n",
              "      <th>joining_date</th>\n",
              "      <th>joined_through_referral</th>\n",
              "      <th>referral_id</th>\n",
              "      <th>preferred_offer_types</th>\n",
              "      <th>medium_of_operation</th>\n",
              "      <th>...</th>\n",
              "      <th>avg_time_spent</th>\n",
              "      <th>avg_transaction_value</th>\n",
              "      <th>avg_frequency_login_days</th>\n",
              "      <th>points_in_wallet</th>\n",
              "      <th>used_special_discount</th>\n",
              "      <th>offer_application_preference</th>\n",
              "      <th>past_complaint</th>\n",
              "      <th>complaint_status</th>\n",
              "      <th>feedback</th>\n",
              "      <th>churn_risk_score</th>\n",
              "    </tr>\n",
              "  </thead>\n",
              "  <tbody>\n",
              "    <tr>\n",
              "      <th>0</th>\n",
              "      <td>18</td>\n",
              "      <td>F</td>\n",
              "      <td>XW0DQ7H</td>\n",
              "      <td>Village</td>\n",
              "      <td>Platinum Membership</td>\n",
              "      <td>2017-08-17</td>\n",
              "      <td>0</td>\n",
              "      <td>xxxxxxxx</td>\n",
              "      <td>Gift Vouchers/Coupons</td>\n",
              "      <td>NaN</td>\n",
              "      <td>...</td>\n",
              "      <td>300.63</td>\n",
              "      <td>53005.25</td>\n",
              "      <td>17.0</td>\n",
              "      <td>781.75</td>\n",
              "      <td>Yes</td>\n",
              "      <td>Yes</td>\n",
              "      <td>No</td>\n",
              "      <td>Not Applicable</td>\n",
              "      <td>Products always in Stock</td>\n",
              "      <td>0</td>\n",
              "    </tr>\n",
              "    <tr>\n",
              "      <th>1</th>\n",
              "      <td>32</td>\n",
              "      <td>F</td>\n",
              "      <td>5K0N3X1</td>\n",
              "      <td>City</td>\n",
              "      <td>Premium Membership</td>\n",
              "      <td>2017-08-28</td>\n",
              "      <td>1</td>\n",
              "      <td>CID21329</td>\n",
              "      <td>Gift Vouchers/Coupons</td>\n",
              "      <td>Desktop</td>\n",
              "      <td>...</td>\n",
              "      <td>306.34</td>\n",
              "      <td>12838.38</td>\n",
              "      <td>10.0</td>\n",
              "      <td>NaN</td>\n",
              "      <td>Yes</td>\n",
              "      <td>No</td>\n",
              "      <td>Yes</td>\n",
              "      <td>Solved</td>\n",
              "      <td>Quality Customer Care</td>\n",
              "      <td>0</td>\n",
              "    </tr>\n",
              "    <tr>\n",
              "      <th>2</th>\n",
              "      <td>44</td>\n",
              "      <td>F</td>\n",
              "      <td>1F2TCL3</td>\n",
              "      <td>Town</td>\n",
              "      <td>No Membership</td>\n",
              "      <td>2016-11-11</td>\n",
              "      <td>1</td>\n",
              "      <td>CID12313</td>\n",
              "      <td>Gift Vouchers/Coupons</td>\n",
              "      <td>Desktop</td>\n",
              "      <td>...</td>\n",
              "      <td>516.16</td>\n",
              "      <td>21027.00</td>\n",
              "      <td>22.0</td>\n",
              "      <td>500.69</td>\n",
              "      <td>No</td>\n",
              "      <td>Yes</td>\n",
              "      <td>Yes</td>\n",
              "      <td>Solved in Follow-up</td>\n",
              "      <td>Poor Website</td>\n",
              "      <td>1</td>\n",
              "    </tr>\n",
              "    <tr>\n",
              "      <th>3</th>\n",
              "      <td>37</td>\n",
              "      <td>M</td>\n",
              "      <td>VJGJ33N</td>\n",
              "      <td>City</td>\n",
              "      <td>No Membership</td>\n",
              "      <td>2016-10-29</td>\n",
              "      <td>1</td>\n",
              "      <td>CID3793</td>\n",
              "      <td>Gift Vouchers/Coupons</td>\n",
              "      <td>Desktop</td>\n",
              "      <td>...</td>\n",
              "      <td>53.27</td>\n",
              "      <td>25239.56</td>\n",
              "      <td>6.0</td>\n",
              "      <td>567.66</td>\n",
              "      <td>No</td>\n",
              "      <td>Yes</td>\n",
              "      <td>Yes</td>\n",
              "      <td>Unsolved</td>\n",
              "      <td>Poor Website</td>\n",
              "      <td>1</td>\n",
              "    </tr>\n",
              "    <tr>\n",
              "      <th>4</th>\n",
              "      <td>31</td>\n",
              "      <td>F</td>\n",
              "      <td>SVZXCWB</td>\n",
              "      <td>City</td>\n",
              "      <td>No Membership</td>\n",
              "      <td>2017-09-12</td>\n",
              "      <td>0</td>\n",
              "      <td>xxxxxxxx</td>\n",
              "      <td>Credit/Debit Card Offers</td>\n",
              "      <td>Smartphone</td>\n",
              "      <td>...</td>\n",
              "      <td>113.13</td>\n",
              "      <td>24483.66</td>\n",
              "      <td>16.0</td>\n",
              "      <td>663.06</td>\n",
              "      <td>No</td>\n",
              "      <td>Yes</td>\n",
              "      <td>Yes</td>\n",
              "      <td>Solved</td>\n",
              "      <td>Poor Website</td>\n",
              "      <td>1</td>\n",
              "    </tr>\n",
              "  </tbody>\n",
              "</table>\n",
              "<p>5 rows × 23 columns</p>\n",
              "</div>\n",
              "      <button class=\"colab-df-convert\" onclick=\"convertToInteractive('df-320a46eb-e043-46e2-94a0-72316b80f41c')\"\n",
              "              title=\"Convert this dataframe to an interactive table.\"\n",
              "              style=\"display:none;\">\n",
              "        \n",
              "  <svg xmlns=\"http://www.w3.org/2000/svg\" height=\"24px\"viewBox=\"0 0 24 24\"\n",
              "       width=\"24px\">\n",
              "    <path d=\"M0 0h24v24H0V0z\" fill=\"none\"/>\n",
              "    <path d=\"M18.56 5.44l.94 2.06.94-2.06 2.06-.94-2.06-.94-.94-2.06-.94 2.06-2.06.94zm-11 1L8.5 8.5l.94-2.06 2.06-.94-2.06-.94L8.5 2.5l-.94 2.06-2.06.94zm10 10l.94 2.06.94-2.06 2.06-.94-2.06-.94-.94-2.06-.94 2.06-2.06.94z\"/><path d=\"M17.41 7.96l-1.37-1.37c-.4-.4-.92-.59-1.43-.59-.52 0-1.04.2-1.43.59L10.3 9.45l-7.72 7.72c-.78.78-.78 2.05 0 2.83L4 21.41c.39.39.9.59 1.41.59.51 0 1.02-.2 1.41-.59l7.78-7.78 2.81-2.81c.8-.78.8-2.07 0-2.86zM5.41 20L4 18.59l7.72-7.72 1.47 1.35L5.41 20z\"/>\n",
              "  </svg>\n",
              "      </button>\n",
              "      \n",
              "  <style>\n",
              "    .colab-df-container {\n",
              "      display:flex;\n",
              "      flex-wrap:wrap;\n",
              "      gap: 12px;\n",
              "    }\n",
              "\n",
              "    .colab-df-convert {\n",
              "      background-color: #E8F0FE;\n",
              "      border: none;\n",
              "      border-radius: 50%;\n",
              "      cursor: pointer;\n",
              "      display: none;\n",
              "      fill: #1967D2;\n",
              "      height: 32px;\n",
              "      padding: 0 0 0 0;\n",
              "      width: 32px;\n",
              "    }\n",
              "\n",
              "    .colab-df-convert:hover {\n",
              "      background-color: #E2EBFA;\n",
              "      box-shadow: 0px 1px 2px rgba(60, 64, 67, 0.3), 0px 1px 3px 1px rgba(60, 64, 67, 0.15);\n",
              "      fill: #174EA6;\n",
              "    }\n",
              "\n",
              "    [theme=dark] .colab-df-convert {\n",
              "      background-color: #3B4455;\n",
              "      fill: #D2E3FC;\n",
              "    }\n",
              "\n",
              "    [theme=dark] .colab-df-convert:hover {\n",
              "      background-color: #434B5C;\n",
              "      box-shadow: 0px 1px 3px 1px rgba(0, 0, 0, 0.15);\n",
              "      filter: drop-shadow(0px 1px 2px rgba(0, 0, 0, 0.3));\n",
              "      fill: #FFFFFF;\n",
              "    }\n",
              "  </style>\n",
              "\n",
              "      <script>\n",
              "        const buttonEl =\n",
              "          document.querySelector('#df-320a46eb-e043-46e2-94a0-72316b80f41c button.colab-df-convert');\n",
              "        buttonEl.style.display =\n",
              "          google.colab.kernel.accessAllowed ? 'block' : 'none';\n",
              "\n",
              "        async function convertToInteractive(key) {\n",
              "          const element = document.querySelector('#df-320a46eb-e043-46e2-94a0-72316b80f41c');\n",
              "          const dataTable =\n",
              "            await google.colab.kernel.invokeFunction('convertToInteractive',\n",
              "                                                     [key], {});\n",
              "          if (!dataTable) return;\n",
              "\n",
              "          const docLinkHtml = 'Like what you see? Visit the ' +\n",
              "            '<a target=\"_blank\" href=https://colab.research.google.com/notebooks/data_table.ipynb>data table notebook</a>'\n",
              "            + ' to learn more about interactive tables.';\n",
              "          element.innerHTML = '';\n",
              "          dataTable['output_type'] = 'display_data';\n",
              "          await google.colab.output.renderOutput(dataTable, element);\n",
              "          const docLink = document.createElement('div');\n",
              "          docLink.innerHTML = docLinkHtml;\n",
              "          element.appendChild(docLink);\n",
              "        }\n",
              "      </script>\n",
              "    </div>\n",
              "  </div>\n",
              "  "
            ]
          },
          "metadata": {},
          "execution_count": 122
        }
      ]
    },
    {
      "cell_type": "code",
      "source": [
        "df['avg_frequency_login_days']=df['avg_frequency_login_days'].replace('Error',np.NaN)\n",
        "df['avg_frequency_login_days']=df['avg_frequency_login_days'].astype('float')\n",
        "df['avg_frequency_login_days']=df['avg_frequency_login_days'].apply(lambda x:x if x>0 else np.nan)\n",
        "missing_values=pd.DataFrame({'Percent Null':df.isnull().sum()*100/len(df)})\n",
        "missing_values.sort_values('Percent Null',ascending=False)"
      ],
      "metadata": {
        "id": "T8dq8hnYjmky",
        "colab": {
          "base_uri": "https://localhost:8080/",
          "height": 770
        },
        "outputId": "c0fd0aa6-9d68-4bd2-c0e4-853dfe2d9b58"
      },
      "execution_count": null,
      "outputs": [
        {
          "output_type": "execute_result",
          "data": {
            "text/plain": [
              "                              Percent Null\n",
              "region_category                  14.673443\n",
              "medium_of_operation              14.578828\n",
              "avg_frequency_login_days         11.367323\n",
              "points_in_wallet                  9.675065\n",
              "days_since_last_login             5.403871\n",
              "avg_time_spent                    4.646951\n",
              "preferred_offer_types             0.778547\n",
              "gender                            0.159494\n",
              "age                               0.000000\n",
              "feedback                          0.000000\n",
              "complaint_status                  0.000000\n",
              "past_complaint                    0.000000\n",
              "offer_application_preference      0.000000\n",
              "used_special_discount             0.000000\n",
              "last_visit_time                   0.000000\n",
              "avg_transaction_value             0.000000\n",
              "internet_option                   0.000000\n",
              "referral_id                       0.000000\n",
              "joined_through_referral           0.000000\n",
              "joining_date                      0.000000\n",
              "membership_category               0.000000\n",
              "security_no                       0.000000\n",
              "churn_risk_score                  0.000000"
            ],
            "text/html": [
              "\n",
              "  <div id=\"df-7e8addaf-f9f4-4c16-bc5d-5253c64c12b1\">\n",
              "    <div class=\"colab-df-container\">\n",
              "      <div>\n",
              "<style scoped>\n",
              "    .dataframe tbody tr th:only-of-type {\n",
              "        vertical-align: middle;\n",
              "    }\n",
              "\n",
              "    .dataframe tbody tr th {\n",
              "        vertical-align: top;\n",
              "    }\n",
              "\n",
              "    .dataframe thead th {\n",
              "        text-align: right;\n",
              "    }\n",
              "</style>\n",
              "<table border=\"1\" class=\"dataframe\">\n",
              "  <thead>\n",
              "    <tr style=\"text-align: right;\">\n",
              "      <th></th>\n",
              "      <th>Percent Null</th>\n",
              "    </tr>\n",
              "  </thead>\n",
              "  <tbody>\n",
              "    <tr>\n",
              "      <th>region_category</th>\n",
              "      <td>14.673443</td>\n",
              "    </tr>\n",
              "    <tr>\n",
              "      <th>medium_of_operation</th>\n",
              "      <td>14.578828</td>\n",
              "    </tr>\n",
              "    <tr>\n",
              "      <th>avg_frequency_login_days</th>\n",
              "      <td>11.367323</td>\n",
              "    </tr>\n",
              "    <tr>\n",
              "      <th>points_in_wallet</th>\n",
              "      <td>9.675065</td>\n",
              "    </tr>\n",
              "    <tr>\n",
              "      <th>days_since_last_login</th>\n",
              "      <td>5.403871</td>\n",
              "    </tr>\n",
              "    <tr>\n",
              "      <th>avg_time_spent</th>\n",
              "      <td>4.646951</td>\n",
              "    </tr>\n",
              "    <tr>\n",
              "      <th>preferred_offer_types</th>\n",
              "      <td>0.778547</td>\n",
              "    </tr>\n",
              "    <tr>\n",
              "      <th>gender</th>\n",
              "      <td>0.159494</td>\n",
              "    </tr>\n",
              "    <tr>\n",
              "      <th>age</th>\n",
              "      <td>0.000000</td>\n",
              "    </tr>\n",
              "    <tr>\n",
              "      <th>feedback</th>\n",
              "      <td>0.000000</td>\n",
              "    </tr>\n",
              "    <tr>\n",
              "      <th>complaint_status</th>\n",
              "      <td>0.000000</td>\n",
              "    </tr>\n",
              "    <tr>\n",
              "      <th>past_complaint</th>\n",
              "      <td>0.000000</td>\n",
              "    </tr>\n",
              "    <tr>\n",
              "      <th>offer_application_preference</th>\n",
              "      <td>0.000000</td>\n",
              "    </tr>\n",
              "    <tr>\n",
              "      <th>used_special_discount</th>\n",
              "      <td>0.000000</td>\n",
              "    </tr>\n",
              "    <tr>\n",
              "      <th>last_visit_time</th>\n",
              "      <td>0.000000</td>\n",
              "    </tr>\n",
              "    <tr>\n",
              "      <th>avg_transaction_value</th>\n",
              "      <td>0.000000</td>\n",
              "    </tr>\n",
              "    <tr>\n",
              "      <th>internet_option</th>\n",
              "      <td>0.000000</td>\n",
              "    </tr>\n",
              "    <tr>\n",
              "      <th>referral_id</th>\n",
              "      <td>0.000000</td>\n",
              "    </tr>\n",
              "    <tr>\n",
              "      <th>joined_through_referral</th>\n",
              "      <td>0.000000</td>\n",
              "    </tr>\n",
              "    <tr>\n",
              "      <th>joining_date</th>\n",
              "      <td>0.000000</td>\n",
              "    </tr>\n",
              "    <tr>\n",
              "      <th>membership_category</th>\n",
              "      <td>0.000000</td>\n",
              "    </tr>\n",
              "    <tr>\n",
              "      <th>security_no</th>\n",
              "      <td>0.000000</td>\n",
              "    </tr>\n",
              "    <tr>\n",
              "      <th>churn_risk_score</th>\n",
              "      <td>0.000000</td>\n",
              "    </tr>\n",
              "  </tbody>\n",
              "</table>\n",
              "</div>\n",
              "      <button class=\"colab-df-convert\" onclick=\"convertToInteractive('df-7e8addaf-f9f4-4c16-bc5d-5253c64c12b1')\"\n",
              "              title=\"Convert this dataframe to an interactive table.\"\n",
              "              style=\"display:none;\">\n",
              "        \n",
              "  <svg xmlns=\"http://www.w3.org/2000/svg\" height=\"24px\"viewBox=\"0 0 24 24\"\n",
              "       width=\"24px\">\n",
              "    <path d=\"M0 0h24v24H0V0z\" fill=\"none\"/>\n",
              "    <path d=\"M18.56 5.44l.94 2.06.94-2.06 2.06-.94-2.06-.94-.94-2.06-.94 2.06-2.06.94zm-11 1L8.5 8.5l.94-2.06 2.06-.94-2.06-.94L8.5 2.5l-.94 2.06-2.06.94zm10 10l.94 2.06.94-2.06 2.06-.94-2.06-.94-.94-2.06-.94 2.06-2.06.94z\"/><path d=\"M17.41 7.96l-1.37-1.37c-.4-.4-.92-.59-1.43-.59-.52 0-1.04.2-1.43.59L10.3 9.45l-7.72 7.72c-.78.78-.78 2.05 0 2.83L4 21.41c.39.39.9.59 1.41.59.51 0 1.02-.2 1.41-.59l7.78-7.78 2.81-2.81c.8-.78.8-2.07 0-2.86zM5.41 20L4 18.59l7.72-7.72 1.47 1.35L5.41 20z\"/>\n",
              "  </svg>\n",
              "      </button>\n",
              "      \n",
              "  <style>\n",
              "    .colab-df-container {\n",
              "      display:flex;\n",
              "      flex-wrap:wrap;\n",
              "      gap: 12px;\n",
              "    }\n",
              "\n",
              "    .colab-df-convert {\n",
              "      background-color: #E8F0FE;\n",
              "      border: none;\n",
              "      border-radius: 50%;\n",
              "      cursor: pointer;\n",
              "      display: none;\n",
              "      fill: #1967D2;\n",
              "      height: 32px;\n",
              "      padding: 0 0 0 0;\n",
              "      width: 32px;\n",
              "    }\n",
              "\n",
              "    .colab-df-convert:hover {\n",
              "      background-color: #E2EBFA;\n",
              "      box-shadow: 0px 1px 2px rgba(60, 64, 67, 0.3), 0px 1px 3px 1px rgba(60, 64, 67, 0.15);\n",
              "      fill: #174EA6;\n",
              "    }\n",
              "\n",
              "    [theme=dark] .colab-df-convert {\n",
              "      background-color: #3B4455;\n",
              "      fill: #D2E3FC;\n",
              "    }\n",
              "\n",
              "    [theme=dark] .colab-df-convert:hover {\n",
              "      background-color: #434B5C;\n",
              "      box-shadow: 0px 1px 3px 1px rgba(0, 0, 0, 0.15);\n",
              "      filter: drop-shadow(0px 1px 2px rgba(0, 0, 0, 0.3));\n",
              "      fill: #FFFFFF;\n",
              "    }\n",
              "  </style>\n",
              "\n",
              "      <script>\n",
              "        const buttonEl =\n",
              "          document.querySelector('#df-7e8addaf-f9f4-4c16-bc5d-5253c64c12b1 button.colab-df-convert');\n",
              "        buttonEl.style.display =\n",
              "          google.colab.kernel.accessAllowed ? 'block' : 'none';\n",
              "\n",
              "        async function convertToInteractive(key) {\n",
              "          const element = document.querySelector('#df-7e8addaf-f9f4-4c16-bc5d-5253c64c12b1');\n",
              "          const dataTable =\n",
              "            await google.colab.kernel.invokeFunction('convertToInteractive',\n",
              "                                                     [key], {});\n",
              "          if (!dataTable) return;\n",
              "\n",
              "          const docLinkHtml = 'Like what you see? Visit the ' +\n",
              "            '<a target=\"_blank\" href=https://colab.research.google.com/notebooks/data_table.ipynb>data table notebook</a>'\n",
              "            + ' to learn more about interactive tables.';\n",
              "          element.innerHTML = '';\n",
              "          dataTable['output_type'] = 'display_data';\n",
              "          await google.colab.output.renderOutput(dataTable, element);\n",
              "          const docLink = document.createElement('div');\n",
              "          docLink.innerHTML = docLinkHtml;\n",
              "          element.appendChild(docLink);\n",
              "        }\n",
              "      </script>\n",
              "    </div>\n",
              "  </div>\n",
              "  "
            ]
          },
          "metadata": {},
          "execution_count": 123
        }
      ]
    },
    {
      "cell_type": "code",
      "source": [
        "#Checking skewness in the dataset\n",
        "df.skew()"
      ],
      "metadata": {
        "colab": {
          "base_uri": "https://localhost:8080/"
        },
        "id": "8JB1eeKGjmOj",
        "outputId": "d2f03fe0-d0d7-4ab4-d1c7-347dfb6b8999"
      },
      "execution_count": null,
      "outputs": [
        {
          "output_type": "stream",
          "name": "stderr",
          "text": [
            "/usr/local/lib/python3.7/dist-packages/ipykernel_launcher.py:2: FutureWarning: Dropping of nuisance columns in DataFrame reductions (with 'numeric_only=None') is deprecated; in a future version this will raise TypeError.  Select only valid columns before calling the reduction.\n",
            "  \n"
          ]
        },
        {
          "output_type": "execute_result",
          "data": {
            "text/plain": [
              "age                        -0.007319\n",
              "joined_through_referral    -0.070332\n",
              "days_since_last_login       0.028519\n",
              "avg_time_spent              2.250598\n",
              "avg_transaction_value       1.011027\n",
              "avg_frequency_login_days    0.637378\n",
              "points_in_wallet            0.278675\n",
              "churn_risk_score           -0.164487\n",
              "dtype: float64"
            ]
          },
          "metadata": {},
          "execution_count": 124
        }
      ]
    },
    {
      "cell_type": "code",
      "source": [
        "sns.histplot(df['avg_frequency_login_days'])"
      ],
      "metadata": {
        "colab": {
          "base_uri": "https://localhost:8080/",
          "height": 346
        },
        "id": "977WQIc7QRLK",
        "outputId": "713cc75b-7a43-4583-a865-4c220a8235cb"
      },
      "execution_count": null,
      "outputs": [
        {
          "output_type": "execute_result",
          "data": {
            "text/plain": [
              "<matplotlib.axes._subplots.AxesSubplot at 0x7f6381946b90>"
            ]
          },
          "metadata": {},
          "execution_count": 125
        },
        {
          "output_type": "display_data",
          "data": {
            "text/plain": [
              "<Figure size 360x360 with 1 Axes>"
            ],
            "image/png": "[encoded data removed]"
          },
          "metadata": {}
        }
      ]
    },
    {
      "cell_type": "code",
      "source": [
        "df['avg_frequency_login_days']=df['avg_frequency_login_days'].fillna(df['avg_frequency_login_days'].median())\n",
        "missing_values=pd.DataFrame({'Percent Null':df.isnull().sum()*100/len(df)})\n",
        "missing_values.sort_values('Percent Null',ascending=False)"
      ],
      "metadata": {
        "id": "o7C70oniQRHA",
        "colab": {
          "base_uri": "https://localhost:8080/",
          "height": 770
        },
        "outputId": "ac7c043a-fd2d-49c7-ac00-f8f7d7153d19"
      },
      "execution_count": null,
      "outputs": [
        {
          "output_type": "execute_result",
          "data": {
            "text/plain": [
              "                              Percent Null\n",
              "region_category                  14.673443\n",
              "medium_of_operation              14.578828\n",
              "points_in_wallet                  9.675065\n",
              "days_since_last_login             5.403871\n",
              "avg_time_spent                    4.646951\n",
              "preferred_offer_types             0.778547\n",
              "gender                            0.159494\n",
              "age                               0.000000\n",
              "avg_frequency_login_days          0.000000\n",
              "feedback                          0.000000\n",
              "complaint_status                  0.000000\n",
              "past_complaint                    0.000000\n",
              "offer_application_preference      0.000000\n",
              "used_special_discount             0.000000\n",
              "last_visit_time                   0.000000\n",
              "avg_transaction_value             0.000000\n",
              "internet_option                   0.000000\n",
              "referral_id                       0.000000\n",
              "joined_through_referral           0.000000\n",
              "joining_date                      0.000000\n",
              "membership_category               0.000000\n",
              "security_no                       0.000000\n",
              "churn_risk_score                  0.000000"
            ],
            "text/html": [
              "\n",
              "  <div id=\"df-19e276ef-b710-456c-b5c7-d6c27b093f05\">\n",
              "    <div class=\"colab-df-container\">\n",
              "      <div>\n",
              "<style scoped>\n",
              "    .dataframe tbody tr th:only-of-type {\n",
              "        vertical-align: middle;\n",
              "    }\n",
              "\n",
              "    .dataframe tbody tr th {\n",
              "        vertical-align: top;\n",
              "    }\n",
              "\n",
              "    .dataframe thead th {\n",
              "        text-align: right;\n",
              "    }\n",
              "</style>\n",
              "<table border=\"1\" class=\"dataframe\">\n",
              "  <thead>\n",
              "    <tr style=\"text-align: right;\">\n",
              "      <th></th>\n",
              "      <th>Percent Null</th>\n",
              "    </tr>\n",
              "  </thead>\n",
              "  <tbody>\n",
              "    <tr>\n",
              "      <th>region_category</th>\n",
              "      <td>14.673443</td>\n",
              "    </tr>\n",
              "    <tr>\n",
              "      <th>medium_of_operation</th>\n",
              "      <td>14.578828</td>\n",
              "    </tr>\n",
              "    <tr>\n",
              "      <th>points_in_wallet</th>\n",
              "      <td>9.675065</td>\n",
              "    </tr>\n",
              "    <tr>\n",
              "      <th>days_since_last_login</th>\n",
              "      <td>5.403871</td>\n",
              "    </tr>\n",
              "    <tr>\n",
              "      <th>avg_time_spent</th>\n",
              "      <td>4.646951</td>\n",
              "    </tr>\n",
              "    <tr>\n",
              "      <th>preferred_offer_types</th>\n",
              "      <td>0.778547</td>\n",
              "    </tr>\n",
              "    <tr>\n",
              "      <th>gender</th>\n",
              "      <td>0.159494</td>\n",
              "    </tr>\n",
              "    <tr>\n",
              "      <th>age</th>\n",
              "      <td>0.000000</td>\n",
              "    </tr>\n",
              "    <tr>\n",
              "      <th>avg_frequency_login_days</th>\n",
              "      <td>0.000000</td>\n",
              "    </tr>\n",
              "    <tr>\n",
              "      <th>feedback</th>\n",
              "      <td>0.000000</td>\n",
              "    </tr>\n",
              "    <tr>\n",
              "      <th>complaint_status</th>\n",
              "      <td>0.000000</td>\n",
              "    </tr>\n",
              "    <tr>\n",
              "      <th>past_complaint</th>\n",
              "      <td>0.000000</td>\n",
              "    </tr>\n",
              "    <tr>\n",
              "      <th>offer_application_preference</th>\n",
              "      <td>0.000000</td>\n",
              "    </tr>\n",
              "    <tr>\n",
              "      <th>used_special_discount</th>\n",
              "      <td>0.000000</td>\n",
              "    </tr>\n",
              "    <tr>\n",
              "      <th>last_visit_time</th>\n",
              "      <td>0.000000</td>\n",
              "    </tr>\n",
              "    <tr>\n",
              "      <th>avg_transaction_value</th>\n",
              "      <td>0.000000</td>\n",
              "    </tr>\n",
              "    <tr>\n",
              "      <th>internet_option</th>\n",
              "      <td>0.000000</td>\n",
              "    </tr>\n",
              "    <tr>\n",
              "      <th>referral_id</th>\n",
              "      <td>0.000000</td>\n",
              "    </tr>\n",
              "    <tr>\n",
              "      <th>joined_through_referral</th>\n",
              "      <td>0.000000</td>\n",
              "    </tr>\n",
              "    <tr>\n",
              "      <th>joining_date</th>\n",
              "      <td>0.000000</td>\n",
              "    </tr>\n",
              "    <tr>\n",
              "      <th>membership_category</th>\n",
              "      <td>0.000000</td>\n",
              "    </tr>\n",
              "    <tr>\n",
              "      <th>security_no</th>\n",
              "      <td>0.000000</td>\n",
              "    </tr>\n",
              "    <tr>\n",
              "      <th>churn_risk_score</th>\n",
              "      <td>0.000000</td>\n",
              "    </tr>\n",
              "  </tbody>\n",
              "</table>\n",
              "</div>\n",
              "      <button class=\"colab-df-convert\" onclick=\"convertToInteractive('df-19e276ef-b710-456c-b5c7-d6c27b093f05')\"\n",
              "              title=\"Convert this dataframe to an interactive table.\"\n",
              "              style=\"display:none;\">\n",
              "        \n",
              "  <svg xmlns=\"http://www.w3.org/2000/svg\" height=\"24px\"viewBox=\"0 0 24 24\"\n",
              "       width=\"24px\">\n",
              "    <path d=\"M0 0h24v24H0V0z\" fill=\"none\"/>\n",
              "    <path d=\"M18.56 5.44l.94 2.06.94-2.06 2.06-.94-2.06-.94-.94-2.06-.94 2.06-2.06.94zm-11 1L8.5 8.5l.94-2.06 2.06-.94-2.06-.94L8.5 2.5l-.94 2.06-2.06.94zm10 10l.94 2.06.94-2.06 2.06-.94-2.06-.94-.94-2.06-.94 2.06-2.06.94z\"/><path d=\"M17.41 7.96l-1.37-1.37c-.4-.4-.92-.59-1.43-.59-.52 0-1.04.2-1.43.59L10.3 9.45l-7.72 7.72c-.78.78-.78 2.05 0 2.83L4 21.41c.39.39.9.59 1.41.59.51 0 1.02-.2 1.41-.59l7.78-7.78 2.81-2.81c.8-.78.8-2.07 0-2.86zM5.41 20L4 18.59l7.72-7.72 1.47 1.35L5.41 20z\"/>\n",
              "  </svg>\n",
              "      </button>\n",
              "      \n",
              "  <style>\n",
              "    .colab-df-container {\n",
              "      display:flex;\n",
              "      flex-wrap:wrap;\n",
              "      gap: 12px;\n",
              "    }\n",
              "\n",
              "    .colab-df-convert {\n",
              "      background-color: #E8F0FE;\n",
              "      border: none;\n",
              "      border-radius: 50%;\n",
              "      cursor: pointer;\n",
              "      display: none;\n",
              "      fill: #1967D2;\n",
              "      height: 32px;\n",
              "      padding: 0 0 0 0;\n",
              "      width: 32px;\n",
              "    }\n",
              "\n",
              "    .colab-df-convert:hover {\n",
              "      background-color: #E2EBFA;\n",
              "      box-shadow: 0px 1px 2px rgba(60, 64, 67, 0.3), 0px 1px 3px 1px rgba(60, 64, 67, 0.15);\n",
              "      fill: #174EA6;\n",
              "    }\n",
              "\n",
              "    [theme=dark] .colab-df-convert {\n",
              "      background-color: #3B4455;\n",
              "      fill: #D2E3FC;\n",
              "    }\n",
              "\n",
              "    [theme=dark] .colab-df-convert:hover {\n",
              "      background-color: #434B5C;\n",
              "      box-shadow: 0px 1px 3px 1px rgba(0, 0, 0, 0.15);\n",
              "      filter: drop-shadow(0px 1px 2px rgba(0, 0, 0, 0.3));\n",
              "      fill: #FFFFFF;\n",
              "    }\n",
              "  </style>\n",
              "\n",
              "      <script>\n",
              "        const buttonEl =\n",
              "          document.querySelector('#df-19e276ef-b710-456c-b5c7-d6c27b093f05 button.colab-df-convert');\n",
              "        buttonEl.style.display =\n",
              "          google.colab.kernel.accessAllowed ? 'block' : 'none';\n",
              "\n",
              "        async function convertToInteractive(key) {\n",
              "          const element = document.querySelector('#df-19e276ef-b710-456c-b5c7-d6c27b093f05');\n",
              "          const dataTable =\n",
              "            await google.colab.kernel.invokeFunction('convertToInteractive',\n",
              "                                                     [key], {});\n",
              "          if (!dataTable) return;\n",
              "\n",
              "          const docLinkHtml = 'Like what you see? Visit the ' +\n",
              "            '<a target=\"_blank\" href=https://colab.research.google.com/notebooks/data_table.ipynb>data table notebook</a>'\n",
              "            + ' to learn more about interactive tables.';\n",
              "          element.innerHTML = '';\n",
              "          dataTable['output_type'] = 'display_data';\n",
              "          await google.colab.output.renderOutput(dataTable, element);\n",
              "          const docLink = document.createElement('div');\n",
              "          docLink.innerHTML = docLinkHtml;\n",
              "          element.appendChild(docLink);\n",
              "        }\n",
              "      </script>\n",
              "    </div>\n",
              "  </div>\n",
              "  "
            ]
          },
          "metadata": {},
          "execution_count": 126
        }
      ]
    },
    {
      "cell_type": "markdown",
      "source": [
        "#### Handling mising values"
      ],
      "metadata": {
        "id": "ypClw0otSOih"
      }
    },
    {
      "cell_type": "code",
      "source": [
        "# Handling missing values\n",
        "df['region_category']=df['region_category'].fillna('other_region')\n",
        "df['medium_of_operation']=df['medium_of_operation'].fillna('other_mop')\n",
        "sns.histplot(df['points_in_wallet'])"
      ],
      "metadata": {
        "id": "IM9PZ2aV_mZX",
        "colab": {
          "base_uri": "https://localhost:8080/",
          "height": 346
        },
        "outputId": "fb99debb-c45e-4190-bd20-3222793642ff"
      },
      "execution_count": null,
      "outputs": [
        {
          "output_type": "execute_result",
          "data": {
            "text/plain": [
              "<matplotlib.axes._subplots.AxesSubplot at 0x7f637b7c3cd0>"
            ]
          },
          "metadata": {},
          "execution_count": 127
        },
        {
          "output_type": "display_data",
          "data": {
            "text/plain": [
              "<Figure size 360x360 with 1 Axes>"
            ],
            "image/png": "[encoded data removed]"
          },
          "metadata": {}
        }
      ]
    },
    {
      "cell_type": "code",
      "source": [
        "df['points_in_wallet']=df['points_in_wallet'].fillna(df['points_in_wallet'].mean())\n",
        "sns.histplot(df['days_since_last_login'])"
      ],
      "metadata": {
        "id": "_yPPX-F7_mVK",
        "colab": {
          "base_uri": "https://localhost:8080/",
          "height": 346
        },
        "outputId": "cf03334e-4684-4ec6-f44a-f7b682066cb7"
      },
      "execution_count": null,
      "outputs": [
        {
          "output_type": "execute_result",
          "data": {
            "text/plain": [
              "<matplotlib.axes._subplots.AxesSubplot at 0x7f637b411990>"
            ]
          },
          "metadata": {},
          "execution_count": 128
        },
        {
          "output_type": "display_data",
          "data": {
            "text/plain": [
              "<Figure size 360x360 with 1 Axes>"
            ],
            "image/png": "[encoded data removed]"
          },
          "metadata": {}
        }
      ]
    },
    {
      "cell_type": "code",
      "source": [
        "df['days_since_last_login']=df['days_since_last_login'].fillna(df['days_since_last_login'].mean())\n",
        "sns.histplot(df['avg_time_spent'])"
      ],
      "metadata": {
        "id": "DjXam8Ze_mQf",
        "colab": {
          "base_uri": "https://localhost:8080/",
          "height": 346
        },
        "outputId": "a43b9c99-facc-47bb-eb53-f79fda319574"
      },
      "execution_count": null,
      "outputs": [
        {
          "output_type": "execute_result",
          "data": {
            "text/plain": [
              "<matplotlib.axes._subplots.AxesSubplot at 0x7f637b890210>"
            ]
          },
          "metadata": {},
          "execution_count": 129
        },
        {
          "output_type": "display_data",
          "data": {
            "text/plain": [
              "<Figure size 360x360 with 1 Axes>"
            ],
            "image/png": "[encoded data removed]"
          },
          "metadata": {}
        }
      ]
    },
    {
      "cell_type": "code",
      "source": [
        "df['avg_time_spent']=df['avg_time_spent'].fillna(df['avg_time_spent'].median())\n",
        "df['preferred_offer_types']=df['preferred_offer_types'].fillna(df['preferred_offer_types'].mode()[0])\n",
        "df['gender']=df['gender'].fillna(df['gender'].mode()[0])\n",
        "missing_values=pd.DataFrame({'Percent Null':df.isnull().sum()*100/len(df)})\n",
        "missing_values.sort_values('Percent Null',ascending=False)"
      ],
      "metadata": {
        "id": "WnokfzEo_mGB",
        "colab": {
          "base_uri": "https://localhost:8080/",
          "height": 770
        },
        "outputId": "55a107cc-4fcd-4958-8470-2b5bc0a44993"
      },
      "execution_count": null,
      "outputs": [
        {
          "output_type": "execute_result",
          "data": {
            "text/plain": [
              "                              Percent Null\n",
              "age                                    0.0\n",
              "days_since_last_login                  0.0\n",
              "feedback                               0.0\n",
              "complaint_status                       0.0\n",
              "past_complaint                         0.0\n",
              "offer_application_preference           0.0\n",
              "used_special_discount                  0.0\n",
              "points_in_wallet                       0.0\n",
              "avg_frequency_login_days               0.0\n",
              "avg_transaction_value                  0.0\n",
              "avg_time_spent                         0.0\n",
              "last_visit_time                        0.0\n",
              "gender                                 0.0\n",
              "internet_option                        0.0\n",
              "medium_of_operation                    0.0\n",
              "preferred_offer_types                  0.0\n",
              "referral_id                            0.0\n",
              "joined_through_referral                0.0\n",
              "joining_date                           0.0\n",
              "membership_category                    0.0\n",
              "region_category                        0.0\n",
              "security_no                            0.0\n",
              "churn_risk_score                       0.0"
            ],
            "text/html": [
              "\n",
              "  <div id=\"df-ceb88e61-6995-4a42-9ae0-953614122016\">\n",
              "    <div class=\"colab-df-container\">\n",
              "      <div>\n",
              "<style scoped>\n",
              "    .dataframe tbody tr th:only-of-type {\n",
              "        vertical-align: middle;\n",
              "    }\n",
              "\n",
              "    .dataframe tbody tr th {\n",
              "        vertical-align: top;\n",
              "    }\n",
              "\n",
              "    .dataframe thead th {\n",
              "        text-align: right;\n",
              "    }\n",
              "</style>\n",
              "<table border=\"1\" class=\"dataframe\">\n",
              "  <thead>\n",
              "    <tr style=\"text-align: right;\">\n",
              "      <th></th>\n",
              "      <th>Percent Null</th>\n",
              "    </tr>\n",
              "  </thead>\n",
              "  <tbody>\n",
              "    <tr>\n",
              "      <th>age</th>\n",
              "      <td>0.0</td>\n",
              "    </tr>\n",
              "    <tr>\n",
              "      <th>days_since_last_login</th>\n",
              "      <td>0.0</td>\n",
              "    </tr>\n",
              "    <tr>\n",
              "      <th>feedback</th>\n",
              "      <td>0.0</td>\n",
              "    </tr>\n",
              "    <tr>\n",
              "      <th>complaint_status</th>\n",
              "      <td>0.0</td>\n",
              "    </tr>\n",
              "    <tr>\n",
              "      <th>past_complaint</th>\n",
              "      <td>0.0</td>\n",
              "    </tr>\n",
              "    <tr>\n",
              "      <th>offer_application_preference</th>\n",
              "      <td>0.0</td>\n",
              "    </tr>\n",
              "    <tr>\n",
              "      <th>used_special_discount</th>\n",
              "      <td>0.0</td>\n",
              "    </tr>\n",
              "    <tr>\n",
              "      <th>points_in_wallet</th>\n",
              "      <td>0.0</td>\n",
              "    </tr>\n",
              "    <tr>\n",
              "      <th>avg_frequency_login_days</th>\n",
              "      <td>0.0</td>\n",
              "    </tr>\n",
              "    <tr>\n",
              "      <th>avg_transaction_value</th>\n",
              "      <td>0.0</td>\n",
              "    </tr>\n",
              "    <tr>\n",
              "      <th>avg_time_spent</th>\n",
              "      <td>0.0</td>\n",
              "    </tr>\n",
              "    <tr>\n",
              "      <th>last_visit_time</th>\n",
              "      <td>0.0</td>\n",
              "    </tr>\n",
              "    <tr>\n",
              "      <th>gender</th>\n",
              "      <td>0.0</td>\n",
              "    </tr>\n",
              "    <tr>\n",
              "      <th>internet_option</th>\n",
              "      <td>0.0</td>\n",
              "    </tr>\n",
              "    <tr>\n",
              "      <th>medium_of_operation</th>\n",
              "      <td>0.0</td>\n",
              "    </tr>\n",
              "    <tr>\n",
              "      <th>preferred_offer_types</th>\n",
              "      <td>0.0</td>\n",
              "    </tr>\n",
              "    <tr>\n",
              "      <th>referral_id</th>\n",
              "      <td>0.0</td>\n",
              "    </tr>\n",
              "    <tr>\n",
              "      <th>joined_through_referral</th>\n",
              "      <td>0.0</td>\n",
              "    </tr>\n",
              "    <tr>\n",
              "      <th>joining_date</th>\n",
              "      <td>0.0</td>\n",
              "    </tr>\n",
              "    <tr>\n",
              "      <th>membership_category</th>\n",
              "      <td>0.0</td>\n",
              "    </tr>\n",
              "    <tr>\n",
              "      <th>region_category</th>\n",
              "      <td>0.0</td>\n",
              "    </tr>\n",
              "    <tr>\n",
              "      <th>security_no</th>\n",
              "      <td>0.0</td>\n",
              "    </tr>\n",
              "    <tr>\n",
              "      <th>churn_risk_score</th>\n",
              "      <td>0.0</td>\n",
              "    </tr>\n",
              "  </tbody>\n",
              "</table>\n",
              "</div>\n",
              "      <button class=\"colab-df-convert\" onclick=\"convertToInteractive('df-ceb88e61-6995-4a42-9ae0-953614122016')\"\n",
              "              title=\"Convert this dataframe to an interactive table.\"\n",
              "              style=\"display:none;\">\n",
              "        \n",
              "  <svg xmlns=\"http://www.w3.org/2000/svg\" height=\"24px\"viewBox=\"0 0 24 24\"\n",
              "       width=\"24px\">\n",
              "    <path d=\"M0 0h24v24H0V0z\" fill=\"none\"/>\n",
              "    <path d=\"M18.56 5.44l.94 2.06.94-2.06 2.06-.94-2.06-.94-.94-2.06-.94 2.06-2.06.94zm-11 1L8.5 8.5l.94-2.06 2.06-.94-2.06-.94L8.5 2.5l-.94 2.06-2.06.94zm10 10l.94 2.06.94-2.06 2.06-.94-2.06-.94-.94-2.06-.94 2.06-2.06.94z\"/><path d=\"M17.41 7.96l-1.37-1.37c-.4-.4-.92-.59-1.43-.59-.52 0-1.04.2-1.43.59L10.3 9.45l-7.72 7.72c-.78.78-.78 2.05 0 2.83L4 21.41c.39.39.9.59 1.41.59.51 0 1.02-.2 1.41-.59l7.78-7.78 2.81-2.81c.8-.78.8-2.07 0-2.86zM5.41 20L4 18.59l7.72-7.72 1.47 1.35L5.41 20z\"/>\n",
              "  </svg>\n",
              "      </button>\n",
              "      \n",
              "  <style>\n",
              "    .colab-df-container {\n",
              "      display:flex;\n",
              "      flex-wrap:wrap;\n",
              "      gap: 12px;\n",
              "    }\n",
              "\n",
              "    .colab-df-convert {\n",
              "      background-color: #E8F0FE;\n",
              "      border: none;\n",
              "      border-radius: 50%;\n",
              "      cursor: pointer;\n",
              "      display: none;\n",
              "      fill: #1967D2;\n",
              "      height: 32px;\n",
              "      padding: 0 0 0 0;\n",
              "      width: 32px;\n",
              "    }\n",
              "\n",
              "    .colab-df-convert:hover {\n",
              "      background-color: #E2EBFA;\n",
              "      box-shadow: 0px 1px 2px rgba(60, 64, 67, 0.3), 0px 1px 3px 1px rgba(60, 64, 67, 0.15);\n",
              "      fill: #174EA6;\n",
              "    }\n",
              "\n",
              "    [theme=dark] .colab-df-convert {\n",
              "      background-color: #3B4455;\n",
              "      fill: #D2E3FC;\n",
              "    }\n",
              "\n",
              "    [theme=dark] .colab-df-convert:hover {\n",
              "      background-color: #434B5C;\n",
              "      box-shadow: 0px 1px 3px 1px rgba(0, 0, 0, 0.15);\n",
              "      filter: drop-shadow(0px 1px 2px rgba(0, 0, 0, 0.3));\n",
              "      fill: #FFFFFF;\n",
              "    }\n",
              "  </style>\n",
              "\n",
              "      <script>\n",
              "        const buttonEl =\n",
              "          document.querySelector('#df-ceb88e61-6995-4a42-9ae0-953614122016 button.colab-df-convert');\n",
              "        buttonEl.style.display =\n",
              "          google.colab.kernel.accessAllowed ? 'block' : 'none';\n",
              "\n",
              "        async function convertToInteractive(key) {\n",
              "          const element = document.querySelector('#df-ceb88e61-6995-4a42-9ae0-953614122016');\n",
              "          const dataTable =\n",
              "            await google.colab.kernel.invokeFunction('convertToInteractive',\n",
              "                                                     [key], {});\n",
              "          if (!dataTable) return;\n",
              "\n",
              "          const docLinkHtml = 'Like what you see? Visit the ' +\n",
              "            '<a target=\"_blank\" href=https://colab.research.google.com/notebooks/data_table.ipynb>data table notebook</a>'\n",
              "            + ' to learn more about interactive tables.';\n",
              "          element.innerHTML = '';\n",
              "          dataTable['output_type'] = 'display_data';\n",
              "          await google.colab.output.renderOutput(dataTable, element);\n",
              "          const docLink = document.createElement('div');\n",
              "          docLink.innerHTML = docLinkHtml;\n",
              "          element.appendChild(docLink);\n",
              "        }\n",
              "      </script>\n",
              "    </div>\n",
              "  </div>\n",
              "  "
            ]
          },
          "metadata": {},
          "execution_count": 130
        }
      ]
    },
    {
      "cell_type": "markdown",
      "source": [
        "#### Data Encoding"
      ],
      "metadata": {
        "id": "UB1CumagSUYw"
      }
    },
    {
      "cell_type": "code",
      "source": [
        "df['feedback'].value_counts()"
      ],
      "metadata": {
        "colab": {
          "base_uri": "https://localhost:8080/"
        },
        "id": "1MEfgiyXEXro",
        "outputId": "32a425f7-dde6-4ef3-de88-8640f770a541"
      },
      "execution_count": null,
      "outputs": [
        {
          "output_type": "execute_result",
          "data": {
            "text/plain": [
              "Poor Product Quality        6350\n",
              "No reason specified         6290\n",
              "Too many ads                6279\n",
              "Poor Website                6271\n",
              "Poor Customer Service       6252\n",
              "Reasonable Price            1417\n",
              "User Friendly Website       1391\n",
              "Products always in Stock    1382\n",
              "Quality Customer Care       1360\n",
              "Name: feedback, dtype: int64"
            ]
          },
          "metadata": {},
          "execution_count": 131
        }
      ]
    },
    {
      "cell_type": "code",
      "source": [
        "df['past_complaint'].replace(['Yes','No'],[1,0],inplace=True)\n",
        "df['used_special_discount'].replace(['Yes','No'],[1,0],inplace=True)\n",
        "df['joined_through_referral'].replace(['Yes','No'],[1,0],inplace=True)\n",
        "df['offer_application_preference'].replace(['Yes','No'],[1,0],inplace=True)"
      ],
      "metadata": {
        "id": "0iocwbTLNPeS"
      },
      "execution_count": null,
      "outputs": []
    },
    {
      "cell_type": "code",
      "source": [
        "def convert_membership_category(x):\n",
        "  if x=='No Membership':\n",
        "    return 0\n",
        "  elif x=='Basic Membership':\n",
        "    return 1\n",
        "  elif x=='Silver Membership':\n",
        "    return 2\n",
        "  elif x=='Gold Membership':\n",
        "    return 3\n",
        "  elif x=='Platinum Membership':\n",
        "    return 4\n",
        "  elif x=='Premium Membership':\n",
        "    return 5\n",
        "df['membership_category']=df['membership_category'].apply(lambda z:convert_membership_category(z))\n",
        "df"
      ],
      "metadata": {
        "colab": {
          "base_uri": "https://localhost:8080/",
          "height": 765
        },
        "id": "v4A0IIW6F4mP",
        "outputId": "c69cfd7d-3dda-4f21-accf-9ad3f1acc0de"
      },
      "execution_count": null,
      "outputs": [
        {
          "output_type": "execute_result",
          "data": {
            "text/plain": [
              "       age gender security_no region_category  membership_category  \\\n",
              "0       18      F     XW0DQ7H         Village                    4   \n",
              "1       32      F     5K0N3X1            City                    5   \n",
              "2       44      F     1F2TCL3            Town                    0   \n",
              "3       37      M     VJGJ33N            City                    0   \n",
              "4       31      F     SVZXCWB            City                    0   \n",
              "...    ...    ...         ...             ...                  ...   \n",
              "36987   46      F     6F51HFO    other_region                    1   \n",
              "36988   29      F     21KSM8Y            Town                    1   \n",
              "36989   23      F     XK1IM9H    other_region                    1   \n",
              "36990   53      M     K6VTP1Z         Village                    4   \n",
              "36991   35      M     LBX0GLR            Town                    2   \n",
              "\n",
              "      joining_date  joined_through_referral referral_id  \\\n",
              "0       2017-08-17                        0    xxxxxxxx   \n",
              "1       2017-08-28                        1    CID21329   \n",
              "2       2016-11-11                        1    CID12313   \n",
              "3       2016-10-29                        1     CID3793   \n",
              "4       2017-09-12                        0    xxxxxxxx   \n",
              "...            ...                      ...         ...   \n",
              "36987   2017-09-21                        0    xxxxxxxx   \n",
              "36988   2016-06-27                        0    xxxxxxxx   \n",
              "36989   2016-09-11                        1     CID3838   \n",
              "36990   2017-06-15                        0    xxxxxxxx   \n",
              "36991   2015-10-23                        0    xxxxxxxx   \n",
              "\n",
              "          preferred_offer_types medium_of_operation  ... avg_time_spent  \\\n",
              "0         Gift Vouchers/Coupons           other_mop  ...         300.63   \n",
              "1         Gift Vouchers/Coupons             Desktop  ...         306.34   \n",
              "2         Gift Vouchers/Coupons             Desktop  ...         516.16   \n",
              "3         Gift Vouchers/Coupons             Desktop  ...          53.27   \n",
              "4      Credit/Debit Card Offers          Smartphone  ...         113.13   \n",
              "...                         ...                 ...  ...            ...   \n",
              "36987  Credit/Debit Card Offers             Desktop  ...         174.18   \n",
              "36988            Without Offers          Smartphone  ...         174.18   \n",
              "36989     Gift Vouchers/Coupons             Desktop  ...         154.94   \n",
              "36990     Gift Vouchers/Coupons          Smartphone  ...         482.61   \n",
              "36991     Gift Vouchers/Coupons             Desktop  ...          79.18   \n",
              "\n",
              "      avg_transaction_value  avg_frequency_login_days  points_in_wallet  \\\n",
              "0                  53005.25                      17.0        781.750000   \n",
              "1                  12838.38                      10.0        690.354685   \n",
              "2                  21027.00                      22.0        500.690000   \n",
              "3                  25239.56                       6.0        567.660000   \n",
              "4                  24483.66                      16.0        663.060000   \n",
              "...                     ...                       ...               ...   \n",
              "36987              27277.68                       6.0        639.510000   \n",
              "36988              11069.71                      28.0        527.990000   \n",
              "36989              38127.56                      16.0        680.470000   \n",
              "36990               2378.86                      20.0        197.264414   \n",
              "36991               2189.68                      16.0        719.970000   \n",
              "\n",
              "       used_special_discount  offer_application_preference  past_complaint  \\\n",
              "0                          1                             1               0   \n",
              "1                          1                             0               1   \n",
              "2                          0                             1               1   \n",
              "3                          0                             1               1   \n",
              "4                          0                             1               1   \n",
              "...                      ...                           ...             ...   \n",
              "36987                      0                             1               1   \n",
              "36988                      1                             0               0   \n",
              "36989                      0                             1               1   \n",
              "36990                      1                             1               0   \n",
              "36991                      1                             0               0   \n",
              "\n",
              "               complaint_status                  feedback  churn_risk_score  \n",
              "0                Not Applicable  Products always in Stock                 0  \n",
              "1                        Solved     Quality Customer Care                 0  \n",
              "2           Solved in Follow-up              Poor Website                 1  \n",
              "3                      Unsolved              Poor Website                 1  \n",
              "4                        Solved              Poor Website                 1  \n",
              "...                         ...                       ...               ...  \n",
              "36987  No Information Available       No reason specified                 1  \n",
              "36988            Not Applicable     Poor Customer Service                 1  \n",
              "36989                  Unsolved              Poor Website                 1  \n",
              "36990            Not Applicable       No reason specified                 0  \n",
              "36991            Not Applicable     Quality Customer Care                 0  \n",
              "\n",
              "[36992 rows x 23 columns]"
            ],
            "text/html": [
              "\n",
              "  <div id=\"df-fb90c937-fc69-41ea-aaab-9378b3079b84\">\n",
              "    <div class=\"colab-df-container\">\n",
              "      <div>\n",
              "<style scoped>\n",
              "    .dataframe tbody tr th:only-of-type {\n",
              "        vertical-align: middle;\n",
              "    }\n",
              "\n",
              "    .dataframe tbody tr th {\n",
              "        vertical-align: top;\n",
              "    }\n",
              "\n",
              "    .dataframe thead th {\n",
              "        text-align: right;\n",
              "    }\n",
              "</style>\n",
              "<table border=\"1\" class=\"dataframe\">\n",
              "  <thead>\n",
              "    <tr style=\"text-align: right;\">\n",
              "      <th></th>\n",
              "      <th>age</th>\n",
              "      <th>gender</th>\n",
              "      <th>security_no</th>\n",
              "      <th>region_category</th>\n",
              "      <th>membership_category</th>\n",
              "      <th>joining_date</th>\n",
              "      <th>joined_through_referral</th>\n",
              "      <th>referral_id</th>\n",
              "      <th>preferred_offer_types</th>\n",
              "      <th>medium_of_operation</th>\n",
              "      <th>...</th>\n",
              "      <th>avg_time_spent</th>\n",
              "      <th>avg_transaction_value</th>\n",
              "      <th>avg_frequency_login_days</th>\n",
              "      <th>points_in_wallet</th>\n",
              "      <th>used_special_discount</th>\n",
              "      <th>offer_application_preference</th>\n",
              "      <th>past_complaint</th>\n",
              "      <th>complaint_status</th>\n",
              "      <th>feedback</th>\n",
              "      <th>churn_risk_score</th>\n",
              "    </tr>\n",
              "  </thead>\n",
              "  <tbody>\n",
              "    <tr>\n",
              "      <th>0</th>\n",
              "      <td>18</td>\n",
              "      <td>F</td>\n",
              "      <td>XW0DQ7H</td>\n",
              "      <td>Village</td>\n",
              "      <td>4</td>\n",
              "      <td>2017-08-17</td>\n",
              "      <td>0</td>\n",
              "      <td>xxxxxxxx</td>\n",
              "      <td>Gift Vouchers/Coupons</td>\n",
              "      <td>other_mop</td>\n",
              "      <td>...</td>\n",
              "      <td>300.63</td>\n",
              "      <td>53005.25</td>\n",
              "      <td>17.0</td>\n",
              "      <td>781.750000</td>\n",
              "      <td>1</td>\n",
              "      <td>1</td>\n",
              "      <td>0</td>\n",
              "      <td>Not Applicable</td>\n",
              "      <td>Products always in Stock</td>\n",
              "      <td>0</td>\n",
              "    </tr>\n",
              "    <tr>\n",
              "      <th>1</th>\n",
              "      <td>32</td>\n",
              "      <td>F</td>\n",
              "      <td>5K0N3X1</td>\n",
              "      <td>City</td>\n",
              "      <td>5</td>\n",
              "      <td>2017-08-28</td>\n",
              "      <td>1</td>\n",
              "      <td>CID21329</td>\n",
              "      <td>Gift Vouchers/Coupons</td>\n",
              "      <td>Desktop</td>\n",
              "      <td>...</td>\n",
              "      <td>306.34</td>\n",
              "      <td>12838.38</td>\n",
              "      <td>10.0</td>\n",
              "      <td>690.354685</td>\n",
              "      <td>1</td>\n",
              "      <td>0</td>\n",
              "      <td>1</td>\n",
              "      <td>Solved</td>\n",
              "      <td>Quality Customer Care</td>\n",
              "      <td>0</td>\n",
              "    </tr>\n",
              "    <tr>\n",
              "      <th>2</th>\n",
              "      <td>44</td>\n",
              "      <td>F</td>\n",
              "      <td>1F2TCL3</td>\n",
              "      <td>Town</td>\n",
              "      <td>0</td>\n",
              "      <td>2016-11-11</td>\n",
              "      <td>1</td>\n",
              "      <td>CID12313</td>\n",
              "      <td>Gift Vouchers/Coupons</td>\n",
              "      <td>Desktop</td>\n",
              "      <td>...</td>\n",
              "      <td>516.16</td>\n",
              "      <td>21027.00</td>\n",
              "      <td>22.0</td>\n",
              "      <td>500.690000</td>\n",
              "      <td>0</td>\n",
              "      <td>1</td>\n",
              "      <td>1</td>\n",
              "      <td>Solved in Follow-up</td>\n",
              "      <td>Poor Website</td>\n",
              "      <td>1</td>\n",
              "    </tr>\n",
              "    <tr>\n",
              "      <th>3</th>\n",
              "      <td>37</td>\n",
              "      <td>M</td>\n",
              "      <td>VJGJ33N</td>\n",
              "      <td>City</td>\n",
              "      <td>0</td>\n",
              "      <td>2016-10-29</td>\n",
              "      <td>1</td>\n",
              "      <td>CID3793</td>\n",
              "      <td>Gift Vouchers/Coupons</td>\n",
              "      <td>Desktop</td>\n",
              "      <td>...</td>\n",
              "      <td>53.27</td>\n",
              "      <td>25239.56</td>\n",
              "      <td>6.0</td>\n",
              "      <td>567.660000</td>\n",
              "      <td>0</td>\n",
              "      <td>1</td>\n",
              "      <td>1</td>\n",
              "      <td>Unsolved</td>\n",
              "      <td>Poor Website</td>\n",
              "      <td>1</td>\n",
              "    </tr>\n",
              "    <tr>\n",
              "      <th>4</th>\n",
              "      <td>31</td>\n",
              "      <td>F</td>\n",
              "      <td>SVZXCWB</td>\n",
              "      <td>City</td>\n",
              "      <td>0</td>\n",
              "      <td>2017-09-12</td>\n",
              "      <td>0</td>\n",
              "      <td>xxxxxxxx</td>\n",
              "      <td>Credit/Debit Card Offers</td>\n",
              "      <td>Smartphone</td>\n",
              "      <td>...</td>\n",
              "      <td>113.13</td>\n",
              "      <td>24483.66</td>\n",
              "      <td>16.0</td>\n",
              "      <td>663.060000</td>\n",
              "      <td>0</td>\n",
              "      <td>1</td>\n",
              "      <td>1</td>\n",
              "      <td>Solved</td>\n",
              "      <td>Poor Website</td>\n",
              "      <td>1</td>\n",
              "    </tr>\n",
              "    <tr>\n",
              "      <th>...</th>\n",
              "      <td>...</td>\n",
              "      <td>...</td>\n",
              "      <td>...</td>\n",
              "      <td>...</td>\n",
              "      <td>...</td>\n",
              "      <td>...</td>\n",
              "      <td>...</td>\n",
              "      <td>...</td>\n",
              "      <td>...</td>\n",
              "      <td>...</td>\n",
              "      <td>...</td>\n",
              "      <td>...</td>\n",
              "      <td>...</td>\n",
              "      <td>...</td>\n",
              "      <td>...</td>\n",
              "      <td>...</td>\n",
              "      <td>...</td>\n",
              "      <td>...</td>\n",
              "      <td>...</td>\n",
              "      <td>...</td>\n",
              "      <td>...</td>\n",
              "    </tr>\n",
              "    <tr>\n",
              "      <th>36987</th>\n",
              "      <td>46</td>\n",
              "      <td>F</td>\n",
              "      <td>6F51HFO</td>\n",
              "      <td>other_region</td>\n",
              "      <td>1</td>\n",
              "      <td>2017-09-21</td>\n",
              "      <td>0</td>\n",
              "      <td>xxxxxxxx</td>\n",
              "      <td>Credit/Debit Card Offers</td>\n",
              "      <td>Desktop</td>\n",
              "      <td>...</td>\n",
              "      <td>174.18</td>\n",
              "      <td>27277.68</td>\n",
              "      <td>6.0</td>\n",
              "      <td>639.510000</td>\n",
              "      <td>0</td>\n",
              "      <td>1</td>\n",
              "      <td>1</td>\n",
              "      <td>No Information Available</td>\n",
              "      <td>No reason specified</td>\n",
              "      <td>1</td>\n",
              "    </tr>\n",
              "    <tr>\n",
              "      <th>36988</th>\n",
              "      <td>29</td>\n",
              "      <td>F</td>\n",
              "      <td>21KSM8Y</td>\n",
              "      <td>Town</td>\n",
              "      <td>1</td>\n",
              "      <td>2016-06-27</td>\n",
              "      <td>0</td>\n",
              "      <td>xxxxxxxx</td>\n",
              "      <td>Without Offers</td>\n",
              "      <td>Smartphone</td>\n",
              "      <td>...</td>\n",
              "      <td>174.18</td>\n",
              "      <td>11069.71</td>\n",
              "      <td>28.0</td>\n",
              "      <td>527.990000</td>\n",
              "      <td>1</td>\n",
              "      <td>0</td>\n",
              "      <td>0</td>\n",
              "      <td>Not Applicable</td>\n",
              "      <td>Poor Customer Service</td>\n",
              "      <td>1</td>\n",
              "    </tr>\n",
              "    <tr>\n",
              "      <th>36989</th>\n",
              "      <td>23</td>\n",
              "      <td>F</td>\n",
              "      <td>XK1IM9H</td>\n",
              "      <td>other_region</td>\n",
              "      <td>1</td>\n",
              "      <td>2016-09-11</td>\n",
              "      <td>1</td>\n",
              "      <td>CID3838</td>\n",
              "      <td>Gift Vouchers/Coupons</td>\n",
              "      <td>Desktop</td>\n",
              "      <td>...</td>\n",
              "      <td>154.94</td>\n",
              "      <td>38127.56</td>\n",
              "      <td>16.0</td>\n",
              "      <td>680.470000</td>\n",
              "      <td>0</td>\n",
              "      <td>1</td>\n",
              "      <td>1</td>\n",
              "      <td>Unsolved</td>\n",
              "      <td>Poor Website</td>\n",
              "      <td>1</td>\n",
              "    </tr>\n",
              "    <tr>\n",
              "      <th>36990</th>\n",
              "      <td>53</td>\n",
              "      <td>M</td>\n",
              "      <td>K6VTP1Z</td>\n",
              "      <td>Village</td>\n",
              "      <td>4</td>\n",
              "      <td>2017-06-15</td>\n",
              "      <td>0</td>\n",
              "      <td>xxxxxxxx</td>\n",
              "      <td>Gift Vouchers/Coupons</td>\n",
              "      <td>Smartphone</td>\n",
              "      <td>...</td>\n",
              "      <td>482.61</td>\n",
              "      <td>2378.86</td>\n",
              "      <td>20.0</td>\n",
              "      <td>197.264414</td>\n",
              "      <td>1</td>\n",
              "      <td>1</td>\n",
              "      <td>0</td>\n",
              "      <td>Not Applicable</td>\n",
              "      <td>No reason specified</td>\n",
              "      <td>0</td>\n",
              "    </tr>\n",
              "    <tr>\n",
              "      <th>36991</th>\n",
              "      <td>35</td>\n",
              "      <td>M</td>\n",
              "      <td>LBX0GLR</td>\n",
              "      <td>Town</td>\n",
              "      <td>2</td>\n",
              "      <td>2015-10-23</td>\n",
              "      <td>0</td>\n",
              "      <td>xxxxxxxx</td>\n",
              "      <td>Gift Vouchers/Coupons</td>\n",
              "      <td>Desktop</td>\n",
              "      <td>...</td>\n",
              "      <td>79.18</td>\n",
              "      <td>2189.68</td>\n",
              "      <td>16.0</td>\n",
              "      <td>719.970000</td>\n",
              "      <td>1</td>\n",
              "      <td>0</td>\n",
              "      <td>0</td>\n",
              "      <td>Not Applicable</td>\n",
              "      <td>Quality Customer Care</td>\n",
              "      <td>0</td>\n",
              "    </tr>\n",
              "  </tbody>\n",
              "</table>\n",
              "<p>36992 rows × 23 columns</p>\n",
              "</div>\n",
              "      <button class=\"colab-df-convert\" onclick=\"convertToInteractive('df-fb90c937-fc69-41ea-aaab-9378b3079b84')\"\n",
              "              title=\"Convert this dataframe to an interactive table.\"\n",
              "              style=\"display:none;\">\n",
              "        \n",
              "  <svg xmlns=\"http://www.w3.org/2000/svg\" height=\"24px\"viewBox=\"0 0 24 24\"\n",
              "       width=\"24px\">\n",
              "    <path d=\"M0 0h24v24H0V0z\" fill=\"none\"/>\n",
              "    <path d=\"M18.56 5.44l.94 2.06.94-2.06 2.06-.94-2.06-.94-.94-2.06-.94 2.06-2.06.94zm-11 1L8.5 8.5l.94-2.06 2.06-.94-2.06-.94L8.5 2.5l-.94 2.06-2.06.94zm10 10l.94 2.06.94-2.06 2.06-.94-2.06-.94-.94-2.06-.94 2.06-2.06.94z\"/><path d=\"M17.41 7.96l-1.37-1.37c-.4-.4-.92-.59-1.43-.59-.52 0-1.04.2-1.43.59L10.3 9.45l-7.72 7.72c-.78.78-.78 2.05 0 2.83L4 21.41c.39.39.9.59 1.41.59.51 0 1.02-.2 1.41-.59l7.78-7.78 2.81-2.81c.8-.78.8-2.07 0-2.86zM5.41 20L4 18.59l7.72-7.72 1.47 1.35L5.41 20z\"/>\n",
              "  </svg>\n",
              "      </button>\n",
              "      \n",
              "  <style>\n",
              "    .colab-df-container {\n",
              "      display:flex;\n",
              "      flex-wrap:wrap;\n",
              "      gap: 12px;\n",
              "    }\n",
              "\n",
              "    .colab-df-convert {\n",
              "      background-color: #E8F0FE;\n",
              "      border: none;\n",
              "      border-radius: 50%;\n",
              "      cursor: pointer;\n",
              "      display: none;\n",
              "      fill: #1967D2;\n",
              "      height: 32px;\n",
              "      padding: 0 0 0 0;\n",
              "      width: 32px;\n",
              "    }\n",
              "\n",
              "    .colab-df-convert:hover {\n",
              "      background-color: #E2EBFA;\n",
              "      box-shadow: 0px 1px 2px rgba(60, 64, 67, 0.3), 0px 1px 3px 1px rgba(60, 64, 67, 0.15);\n",
              "      fill: #174EA6;\n",
              "    }\n",
              "\n",
              "    [theme=dark] .colab-df-convert {\n",
              "      background-color: #3B4455;\n",
              "      fill: #D2E3FC;\n",
              "    }\n",
              "\n",
              "    [theme=dark] .colab-df-convert:hover {\n",
              "      background-color: #434B5C;\n",
              "      box-shadow: 0px 1px 3px 1px rgba(0, 0, 0, 0.15);\n",
              "      filter: drop-shadow(0px 1px 2px rgba(0, 0, 0, 0.3));\n",
              "      fill: #FFFFFF;\n",
              "    }\n",
              "  </style>\n",
              "\n",
              "      <script>\n",
              "        const buttonEl =\n",
              "          document.querySelector('#df-fb90c937-fc69-41ea-aaab-9378b3079b84 button.colab-df-convert');\n",
              "        buttonEl.style.display =\n",
              "          google.colab.kernel.accessAllowed ? 'block' : 'none';\n",
              "\n",
              "        async function convertToInteractive(key) {\n",
              "          const element = document.querySelector('#df-fb90c937-fc69-41ea-aaab-9378b3079b84');\n",
              "          const dataTable =\n",
              "            await google.colab.kernel.invokeFunction('convertToInteractive',\n",
              "                                                     [key], {});\n",
              "          if (!dataTable) return;\n",
              "\n",
              "          const docLinkHtml = 'Like what you see? Visit the ' +\n",
              "            '<a target=\"_blank\" href=https://colab.research.google.com/notebooks/data_table.ipynb>data table notebook</a>'\n",
              "            + ' to learn more about interactive tables.';\n",
              "          element.innerHTML = '';\n",
              "          dataTable['output_type'] = 'display_data';\n",
              "          await google.colab.output.renderOutput(dataTable, element);\n",
              "          const docLink = document.createElement('div');\n",
              "          docLink.innerHTML = docLinkHtml;\n",
              "          element.appendChild(docLink);\n",
              "        }\n",
              "      </script>\n",
              "    </div>\n",
              "  </div>\n",
              "  "
            ]
          },
          "metadata": {},
          "execution_count": 133
        }
      ]
    },
    {
      "cell_type": "code",
      "source": [
        "df.columns"
      ],
      "metadata": {
        "colab": {
          "base_uri": "https://localhost:8080/"
        },
        "id": "Z0XVV5gBF4kD",
        "outputId": "8abf3ec8-09bd-46d2-f2b7-f3ebe473ee36"
      },
      "execution_count": null,
      "outputs": [
        {
          "output_type": "execute_result",
          "data": {
            "text/plain": [
              "Index(['age', 'gender', 'security_no', 'region_category',\n",
              "       'membership_category', 'joining_date', 'joined_through_referral',\n",
              "       'referral_id', 'preferred_offer_types', 'medium_of_operation',\n",
              "       'internet_option', 'last_visit_time', 'days_since_last_login',\n",
              "       'avg_time_spent', 'avg_transaction_value', 'avg_frequency_login_days',\n",
              "       'points_in_wallet', 'used_special_discount',\n",
              "       'offer_application_preference', 'past_complaint', 'complaint_status',\n",
              "       'feedback', 'churn_risk_score'],\n",
              "      dtype='object')"
            ]
          },
          "metadata": {},
          "execution_count": 134
        }
      ]
    },
    {
      "cell_type": "code",
      "source": [
        "#Removing not required columns\n",
        "df.drop(['security_no','referral_id'],axis=1,inplace=True)\n",
        "df['days_since_last_login']=df['days_since_last_login'].round()"
      ],
      "metadata": {
        "id": "tnt_ZZRuF4hd"
      },
      "execution_count": null,
      "outputs": []
    },
    {
      "cell_type": "code",
      "source": [
        "#Converting Date columns into required fields \n",
        "\n",
        "\n",
        "df['joining_date']=pd.to_datetime(df['joining_date'],format='%Y-%m-%d')\n",
        "\n",
        "df['today']=date(2022,6,2)\n",
        "df[['joining_date', 'today']]=df[['joining_date', 'today']].apply(pd.to_datetime)\n",
        "df['days_joined']=(df['today']-df['joining_date']).dt.days\n",
        "df['hour_of_the_day']=pd.DatetimeIndex(df['last_visit_time']).hour\n",
        "\n",
        "df.drop(['joining_date','last_visit_time','today'],axis=1,inplace=True)\n",
        "df.head()"
      ],
      "metadata": {
        "colab": {
          "base_uri": "https://localhost:8080/",
          "height": 421
        },
        "id": "_IsQr9zARiYA",
        "outputId": "ce0435a5-60ce-4998-c54c-22f40a05d854"
      },
      "execution_count": null,
      "outputs": [
        {
          "output_type": "execute_result",
          "data": {
            "text/plain": [
              "   age gender region_category  membership_category  joined_through_referral  \\\n",
              "0   18      F         Village                    4                        0   \n",
              "1   32      F            City                    5                        1   \n",
              "2   44      F            Town                    0                        1   \n",
              "3   37      M            City                    0                        1   \n",
              "4   31      F            City                    0                        0   \n",
              "\n",
              "      preferred_offer_types medium_of_operation internet_option  \\\n",
              "0     Gift Vouchers/Coupons           other_mop           Wi-Fi   \n",
              "1     Gift Vouchers/Coupons             Desktop     Mobile_Data   \n",
              "2     Gift Vouchers/Coupons             Desktop           Wi-Fi   \n",
              "3     Gift Vouchers/Coupons             Desktop     Mobile_Data   \n",
              "4  Credit/Debit Card Offers          Smartphone     Mobile_Data   \n",
              "\n",
              "   days_since_last_login  avg_time_spent  ...  avg_frequency_login_days  \\\n",
              "0                   17.0          300.63  ...                      17.0   \n",
              "1                   16.0          306.34  ...                      10.0   \n",
              "2                   14.0          516.16  ...                      22.0   \n",
              "3                   11.0           53.27  ...                       6.0   \n",
              "4                   20.0          113.13  ...                      16.0   \n",
              "\n",
              "   points_in_wallet  used_special_discount  offer_application_preference  \\\n",
              "0        781.750000                      1                             1   \n",
              "1        690.354685                      1                             0   \n",
              "2        500.690000                      0                             1   \n",
              "3        567.660000                      0                             1   \n",
              "4        663.060000                      0                             1   \n",
              "\n",
              "   past_complaint     complaint_status                  feedback  \\\n",
              "0               0       Not Applicable  Products always in Stock   \n",
              "1               1               Solved     Quality Customer Care   \n",
              "2               1  Solved in Follow-up              Poor Website   \n",
              "3               1             Unsolved              Poor Website   \n",
              "4               1               Solved              Poor Website   \n",
              "\n",
              "  churn_risk_score  days_joined  hour_of_the_day  \n",
              "0                0         1750               16  \n",
              "1                0         1739               12  \n",
              "2                1         2029               22  \n",
              "3                1         2042               15  \n",
              "4                1         1724               15  \n",
              "\n",
              "[5 rows x 21 columns]"
            ],
            "text/html": [
              "\n",
              "  <div id=\"df-245d9607-241e-4b8d-aa21-3aee06ed5697\">\n",
              "    <div class=\"colab-df-container\">\n",
              "      <div>\n",
              "<style scoped>\n",
              "    .dataframe tbody tr th:only-of-type {\n",
              "        vertical-align: middle;\n",
              "    }\n",
              "\n",
              "    .dataframe tbody tr th {\n",
              "        vertical-align: top;\n",
              "    }\n",
              "\n",
              "    .dataframe thead th {\n",
              "        text-align: right;\n",
              "    }\n",
              "</style>\n",
              "<table border=\"1\" class=\"dataframe\">\n",
              "  <thead>\n",
              "    <tr style=\"text-align: right;\">\n",
              "      <th></th>\n",
              "      <th>age</th>\n",
              "      <th>gender</th>\n",
              "      <th>region_category</th>\n",
              "      <th>membership_category</th>\n",
              "      <th>joined_through_referral</th>\n",
              "      <th>preferred_offer_types</th>\n",
              "      <th>medium_of_operation</th>\n",
              "      <th>internet_option</th>\n",
              "      <th>days_since_last_login</th>\n",
              "      <th>avg_time_spent</th>\n",
              "      <th>...</th>\n",
              "      <th>avg_frequency_login_days</th>\n",
              "      <th>points_in_wallet</th>\n",
              "      <th>used_special_discount</th>\n",
              "      <th>offer_application_preference</th>\n",
              "      <th>past_complaint</th>\n",
              "      <th>complaint_status</th>\n",
              "      <th>feedback</th>\n",
              "      <th>churn_risk_score</th>\n",
              "      <th>days_joined</th>\n",
              "      <th>hour_of_the_day</th>\n",
              "    </tr>\n",
              "  </thead>\n",
              "  <tbody>\n",
              "    <tr>\n",
              "      <th>0</th>\n",
              "      <td>18</td>\n",
              "      <td>F</td>\n",
              "      <td>Village</td>\n",
              "      <td>4</td>\n",
              "      <td>0</td>\n",
              "      <td>Gift Vouchers/Coupons</td>\n",
              "      <td>other_mop</td>\n",
              "      <td>Wi-Fi</td>\n",
              "      <td>17.0</td>\n",
              "      <td>300.63</td>\n",
              "      <td>...</td>\n",
              "      <td>17.0</td>\n",
              "      <td>781.750000</td>\n",
              "      <td>1</td>\n",
              "      <td>1</td>\n",
              "      <td>0</td>\n",
              "      <td>Not Applicable</td>\n",
              "      <td>Products always in Stock</td>\n",
              "      <td>0</td>\n",
              "      <td>1750</td>\n",
              "      <td>16</td>\n",
              "    </tr>\n",
              "    <tr>\n",
              "      <th>1</th>\n",
              "      <td>32</td>\n",
              "      <td>F</td>\n",
              "      <td>City</td>\n",
              "      <td>5</td>\n",
              "      <td>1</td>\n",
              "      <td>Gift Vouchers/Coupons</td>\n",
              "      <td>Desktop</td>\n",
              "      <td>Mobile_Data</td>\n",
              "      <td>16.0</td>\n",
              "      <td>306.34</td>\n",
              "      <td>...</td>\n",
              "      <td>10.0</td>\n",
              "      <td>690.354685</td>\n",
              "      <td>1</td>\n",
              "      <td>0</td>\n",
              "      <td>1</td>\n",
              "      <td>Solved</td>\n",
              "      <td>Quality Customer Care</td>\n",
              "      <td>0</td>\n",
              "      <td>1739</td>\n",
              "      <td>12</td>\n",
              "    </tr>\n",
              "    <tr>\n",
              "      <th>2</th>\n",
              "      <td>44</td>\n",
              "      <td>F</td>\n",
              "      <td>Town</td>\n",
              "      <td>0</td>\n",
              "      <td>1</td>\n",
              "      <td>Gift Vouchers/Coupons</td>\n",
              "      <td>Desktop</td>\n",
              "      <td>Wi-Fi</td>\n",
              "      <td>14.0</td>\n",
              "      <td>516.16</td>\n",
              "      <td>...</td>\n",
              "      <td>22.0</td>\n",
              "      <td>500.690000</td>\n",
              "      <td>0</td>\n",
              "      <td>1</td>\n",
              "      <td>1</td>\n",
              "      <td>Solved in Follow-up</td>\n",
              "      <td>Poor Website</td>\n",
              "      <td>1</td>\n",
              "      <td>2029</td>\n",
              "      <td>22</td>\n",
              "    </tr>\n",
              "    <tr>\n",
              "      <th>3</th>\n",
              "      <td>37</td>\n",
              "      <td>M</td>\n",
              "      <td>City</td>\n",
              "      <td>0</td>\n",
              "      <td>1</td>\n",
              "      <td>Gift Vouchers/Coupons</td>\n",
              "      <td>Desktop</td>\n",
              "      <td>Mobile_Data</td>\n",
              "      <td>11.0</td>\n",
              "      <td>53.27</td>\n",
              "      <td>...</td>\n",
              "      <td>6.0</td>\n",
              "      <td>567.660000</td>\n",
              "      <td>0</td>\n",
              "      <td>1</td>\n",
              "      <td>1</td>\n",
              "      <td>Unsolved</td>\n",
              "      <td>Poor Website</td>\n",
              "      <td>1</td>\n",
              "      <td>2042</td>\n",
              "      <td>15</td>\n",
              "    </tr>\n",
              "    <tr>\n",
              "      <th>4</th>\n",
              "      <td>31</td>\n",
              "      <td>F</td>\n",
              "      <td>City</td>\n",
              "      <td>0</td>\n",
              "      <td>0</td>\n",
              "      <td>Credit/Debit Card Offers</td>\n",
              "      <td>Smartphone</td>\n",
              "      <td>Mobile_Data</td>\n",
              "      <td>20.0</td>\n",
              "      <td>113.13</td>\n",
              "      <td>...</td>\n",
              "      <td>16.0</td>\n",
              "      <td>663.060000</td>\n",
              "      <td>0</td>\n",
              "      <td>1</td>\n",
              "      <td>1</td>\n",
              "      <td>Solved</td>\n",
              "      <td>Poor Website</td>\n",
              "      <td>1</td>\n",
              "      <td>1724</td>\n",
              "      <td>15</td>\n",
              "    </tr>\n",
              "  </tbody>\n",
              "</table>\n",
              "<p>5 rows × 21 columns</p>\n",
              "</div>\n",
              "      <button class=\"colab-df-convert\" onclick=\"convertToInteractive('df-245d9607-241e-4b8d-aa21-3aee06ed5697')\"\n",
              "              title=\"Convert this dataframe to an interactive table.\"\n",
              "              style=\"display:none;\">\n",
              "        \n",
              "  <svg xmlns=\"http://www.w3.org/2000/svg\" height=\"24px\"viewBox=\"0 0 24 24\"\n",
              "       width=\"24px\">\n",
              "    <path d=\"M0 0h24v24H0V0z\" fill=\"none\"/>\n",
              "    <path d=\"M18.56 5.44l.94 2.06.94-2.06 2.06-.94-2.06-.94-.94-2.06-.94 2.06-2.06.94zm-11 1L8.5 8.5l.94-2.06 2.06-.94-2.06-.94L8.5 2.5l-.94 2.06-2.06.94zm10 10l.94 2.06.94-2.06 2.06-.94-2.06-.94-.94-2.06-.94 2.06-2.06.94z\"/><path d=\"M17.41 7.96l-1.37-1.37c-.4-.4-.92-.59-1.43-.59-.52 0-1.04.2-1.43.59L10.3 9.45l-7.72 7.72c-.78.78-.78 2.05 0 2.83L4 21.41c.39.39.9.59 1.41.59.51 0 1.02-.2 1.41-.59l7.78-7.78 2.81-2.81c.8-.78.8-2.07 0-2.86zM5.41 20L4 18.59l7.72-7.72 1.47 1.35L5.41 20z\"/>\n",
              "  </svg>\n",
              "      </button>\n",
              "      \n",
              "  <style>\n",
              "    .colab-df-container {\n",
              "      display:flex;\n",
              "      flex-wrap:wrap;\n",
              "      gap: 12px;\n",
              "    }\n",
              "\n",
              "    .colab-df-convert {\n",
              "      background-color: #E8F0FE;\n",
              "      border: none;\n",
              "      border-radius: 50%;\n",
              "      cursor: pointer;\n",
              "      display: none;\n",
              "      fill: #1967D2;\n",
              "      height: 32px;\n",
              "      padding: 0 0 0 0;\n",
              "      width: 32px;\n",
              "    }\n",
              "\n",
              "    .colab-df-convert:hover {\n",
              "      background-color: #E2EBFA;\n",
              "      box-shadow: 0px 1px 2px rgba(60, 64, 67, 0.3), 0px 1px 3px 1px rgba(60, 64, 67, 0.15);\n",
              "      fill: #174EA6;\n",
              "    }\n",
              "\n",
              "    [theme=dark] .colab-df-convert {\n",
              "      background-color: #3B4455;\n",
              "      fill: #D2E3FC;\n",
              "    }\n",
              "\n",
              "    [theme=dark] .colab-df-convert:hover {\n",
              "      background-color: #434B5C;\n",
              "      box-shadow: 0px 1px 3px 1px rgba(0, 0, 0, 0.15);\n",
              "      filter: drop-shadow(0px 1px 2px rgba(0, 0, 0, 0.3));\n",
              "      fill: #FFFFFF;\n",
              "    }\n",
              "  </style>\n",
              "\n",
              "      <script>\n",
              "        const buttonEl =\n",
              "          document.querySelector('#df-245d9607-241e-4b8d-aa21-3aee06ed5697 button.colab-df-convert');\n",
              "        buttonEl.style.display =\n",
              "          google.colab.kernel.accessAllowed ? 'block' : 'none';\n",
              "\n",
              "        async function convertToInteractive(key) {\n",
              "          const element = document.querySelector('#df-245d9607-241e-4b8d-aa21-3aee06ed5697');\n",
              "          const dataTable =\n",
              "            await google.colab.kernel.invokeFunction('convertToInteractive',\n",
              "                                                     [key], {});\n",
              "          if (!dataTable) return;\n",
              "\n",
              "          const docLinkHtml = 'Like what you see? Visit the ' +\n",
              "            '<a target=\"_blank\" href=https://colab.research.google.com/notebooks/data_table.ipynb>data table notebook</a>'\n",
              "            + ' to learn more about interactive tables.';\n",
              "          element.innerHTML = '';\n",
              "          dataTable['output_type'] = 'display_data';\n",
              "          await google.colab.output.renderOutput(dataTable, element);\n",
              "          const docLink = document.createElement('div');\n",
              "          docLink.innerHTML = docLinkHtml;\n",
              "          element.appendChild(docLink);\n",
              "        }\n",
              "      </script>\n",
              "    </div>\n",
              "  </div>\n",
              "  "
            ]
          },
          "metadata": {},
          "execution_count": 136
        }
      ]
    },
    {
      "cell_type": "markdown",
      "source": [
        "### Data Visualization"
      ],
      "metadata": {
        "id": "rwFo5vBCgnYy"
      }
    },
    {
      "cell_type": "code",
      "source": [
        "#Correlation heatmap\n",
        "\n",
        "corr_matrix = df.corr()\n",
        "print(corr_matrix[\"churn_risk_score\"].sort_values(ascending=False))"
      ],
      "metadata": {
        "id": "r1jqEMBegi1H",
        "colab": {
          "base_uri": "https://localhost:8080/"
        },
        "outputId": "b58d582a-011d-457a-f89d-8c3c59b832a7"
      },
      "execution_count": null,
      "outputs": [
        {
          "output_type": "stream",
          "name": "stdout",
          "text": [
            "churn_risk_score                1.000000\n",
            "avg_frequency_login_days        0.136550\n",
            "joined_through_referral         0.034237\n",
            "days_since_last_login           0.016382\n",
            "past_complaint                  0.008934\n",
            "age                             0.006124\n",
            "hour_of_the_day                -0.005821\n",
            "days_joined                    -0.009913\n",
            "used_special_discount          -0.010648\n",
            "avg_time_spent                 -0.012481\n",
            "offer_application_preference   -0.018729\n",
            "avg_transaction_value          -0.218012\n",
            "points_in_wallet               -0.299658\n",
            "membership_category            -0.751655\n",
            "Name: churn_risk_score, dtype: float64\n"
          ]
        }
      ]
    },
    {
      "cell_type": "code",
      "source": [
        "plt.figure(figsize=(15, 10))\n",
        "cmap = sns.cm.rocket_r\n",
        "heatmap = sns.heatmap(round(df.corr(), 2), vmin=-1, vmax=1, annot=True , cmap = cmap)\n",
        "heatmap.set_title('Correlation Heatmap', fontdict={'fontsize':20}, pad=40);"
      ],
      "metadata": {
        "id": "vgT1WE4fgivx",
        "colab": {
          "base_uri": "https://localhost:8080/",
          "height": 735
        },
        "outputId": "2eff1bae-1a44-405f-8df6-379ade4c0232"
      },
      "execution_count": null,
      "outputs": [
        {
          "output_type": "display_data",
          "data": {
            "text/plain": [
              "<Figure size 1080x720 with 2 Axes>"
            ],
            "image/png": "[encoded data removed]"
          },
          "metadata": {}
        }
      ]
    },
    {
      "cell_type": "markdown",
      "source": [
        "#### EDA"
      ],
      "metadata": {
        "id": "P-OopZ6MTM2A"
      }
    },
    {
      "cell_type": "code",
      "source": [
        "df_gender = df.groupby(['churn_risk_score', 'gender']).size().reset_index(name='counts')\n",
        "sns.catplot(\n",
        "    data=df_gender, kind=\"bar\",\n",
        "    x=\"gender\", y=\"counts\", hue=\"churn_risk_score\",\n",
        "    ci=\"sd\", palette=\"bright\", alpha=.6, height=6)"
      ],
      "metadata": {
        "id": "gw903TLMgiak",
        "colab": {
          "base_uri": "https://localhost:8080/",
          "height": 464
        },
        "outputId": "3aafaf71-2413-4e18-d1f1-088cb5d38bee"
      },
      "execution_count": null,
      "outputs": [
        {
          "output_type": "execute_result",
          "data": {
            "text/plain": [
              "<seaborn.axisgrid.FacetGrid at 0x7f63eeb312d0>"
            ]
          },
          "metadata": {},
          "execution_count": 139
        },
        {
          "output_type": "display_data",
          "data": {
            "text/plain": [
              "<Figure size 497.53x432 with 1 Axes>"
            ],
            "image/png": "[encoded data removed]"
          },
          "metadata": {}
        }
      ]
    },
    {
      "cell_type": "code",
      "source": [
        "df_region = df.groupby(['churn_risk_score', 'region_category']).size().reset_index(name='counts')\n",
        "sns.catplot(\n",
        "    data=df_region, kind=\"bar\",\n",
        "    x=\"region_category\", y=\"counts\", hue=\"churn_risk_score\",\n",
        "    ci=\"sd\", palette=\"bright\", alpha=.6, height=6)"
      ],
      "metadata": {
        "id": "n5kgMMcAgiZQ",
        "colab": {
          "base_uri": "https://localhost:8080/",
          "height": 464
        },
        "outputId": "955b0244-7a7c-40ad-9812-f7982484edde"
      },
      "execution_count": null,
      "outputs": [
        {
          "output_type": "execute_result",
          "data": {
            "text/plain": [
              "<seaborn.axisgrid.FacetGrid at 0x7f63818e3ed0>"
            ]
          },
          "metadata": {},
          "execution_count": 140
        },
        {
          "output_type": "display_data",
          "data": {
            "text/plain": [
              "<Figure size 497.53x432 with 1 Axes>"
            ],
            "image/png": "[encoded data removed]"
          },
          "metadata": {}
        }
      ]
    },
    {
      "cell_type": "code",
      "source": [
        "df_offer = df.groupby(['churn_risk_score', 'preferred_offer_types']).size().reset_index(name='counts')\n",
        "sns.catplot(\n",
        "    data=df_offer, kind=\"bar\",\n",
        "    x=\"preferred_offer_types\", y=\"counts\", hue=\"churn_risk_score\",\n",
        "    ci=\"sd\", palette=\"bright\", alpha=.6, height=6)"
      ],
      "metadata": {
        "id": "JpuBvh7mgiWX",
        "colab": {
          "base_uri": "https://localhost:8080/",
          "height": 464
        },
        "outputId": "3e70e0d8-0417-4beb-c352-2a05828ba50c"
      },
      "execution_count": null,
      "outputs": [
        {
          "output_type": "execute_result",
          "data": {
            "text/plain": [
              "<seaborn.axisgrid.FacetGrid at 0x7f63834671d0>"
            ]
          },
          "metadata": {},
          "execution_count": 141
        },
        {
          "output_type": "display_data",
          "data": {
            "text/plain": [
              "<Figure size 497.53x432 with 1 Axes>"
            ],
            "image/png": "[encoded data removed]"
          },
          "metadata": {}
        }
      ]
    },
    {
      "cell_type": "code",
      "source": [
        "df_medium = df.groupby(['churn_risk_score', 'medium_of_operation']).size().reset_index(name='counts')\n",
        "sns.catplot(\n",
        "    data=df_medium, kind=\"bar\",\n",
        "    x=\"medium_of_operation\", y=\"counts\", hue=\"churn_risk_score\",\n",
        "    ci=\"sd\", palette=\"bright\", alpha=.6, height=6)"
      ],
      "metadata": {
        "colab": {
          "base_uri": "https://localhost:8080/",
          "height": 464
        },
        "id": "lSpZHce-7dR1",
        "outputId": "ec22108a-c2f5-44a8-a821-3fa0b831d586"
      },
      "execution_count": null,
      "outputs": [
        {
          "output_type": "execute_result",
          "data": {
            "text/plain": [
              "<seaborn.axisgrid.FacetGrid at 0x7f6383141690>"
            ]
          },
          "metadata": {},
          "execution_count": 142
        },
        {
          "output_type": "display_data",
          "data": {
            "text/plain": [
              "<Figure size 497.53x432 with 1 Axes>"
            ],
            "image/png": "[encoded data removed]"
          },
          "metadata": {}
        }
      ]
    },
    {
      "cell_type": "code",
      "source": [
        "df_internet = df.groupby(['churn_risk_score', 'internet_option']).size().reset_index(name='counts')\n",
        "sns.catplot(\n",
        "    data=df_internet, kind=\"bar\",\n",
        "    x=\"internet_option\", y=\"counts\", hue=\"churn_risk_score\",\n",
        "    ci=\"sd\", palette=\"bright\", alpha=.6, height=6)"
      ],
      "metadata": {
        "colab": {
          "base_uri": "https://localhost:8080/",
          "height": 464
        },
        "id": "CS4GkFG_7tQJ",
        "outputId": "683c7ae2-bd0c-45e9-d899-706c9d5445a8"
      },
      "execution_count": null,
      "outputs": [
        {
          "output_type": "execute_result",
          "data": {
            "text/plain": [
              "<seaborn.axisgrid.FacetGrid at 0x7f638311c790>"
            ]
          },
          "metadata": {},
          "execution_count": 143
        },
        {
          "output_type": "display_data",
          "data": {
            "text/plain": [
              "<Figure size 497.53x432 with 1 Axes>"
            ],
            "image/png": "[encoded data removed]"
          },
          "metadata": {}
        }
      ]
    },
    {
      "cell_type": "code",
      "source": [
        "df_complaint = df.groupby(['churn_risk_score', 'complaint_status']).size().reset_index(name='counts')\n",
        "sns.set_theme(style=\"ticks\", font_scale=0.8)\n",
        "sns.catplot(\n",
        "    data=df_complaint, kind=\"bar\",\n",
        "    x=\"complaint_status\", y=\"counts\", hue=\"churn_risk_score\",\n",
        "    ci=\"sd\", palette=\"bright\", alpha=.6, height=6)\n",
        "plt.xticks(rotation=45)"
      ],
      "metadata": {
        "colab": {
          "base_uri": "https://localhost:8080/",
          "height": 533
        },
        "id": "X_2bdtcN7_Di",
        "outputId": "be59c20a-69af-42a8-8a98-223712aab4cf"
      },
      "execution_count": null,
      "outputs": [
        {
          "output_type": "execute_result",
          "data": {
            "text/plain": [
              "(array([0, 1, 2, 3, 4]), <a list of 5 Text major ticklabel objects>)"
            ]
          },
          "metadata": {},
          "execution_count": 144
        },
        {
          "output_type": "display_data",
          "data": {
            "text/plain": [
              "<Figure size 519.415x432 with 1 Axes>"
            ],
            "image/png": "[encoded data removed]"
          },
          "metadata": {}
        }
      ]
    },
    {
      "cell_type": "code",
      "source": [
        "df_feedback = df.groupby(['churn_risk_score', 'feedback']).size().reset_index(name='counts')\n",
        "sns.set_theme(style=\"ticks\", font_scale=0.6)\n",
        "sns.catplot(\n",
        "    data=df_feedback, kind=\"bar\",\n",
        "    x=\"feedback\", y=\"counts\", hue=\"churn_risk_score\",\n",
        "    ci=\"sd\", palette=\"bright\", alpha=.6, height=6)\n",
        "plt.xticks(rotation=45)"
      ],
      "metadata": {
        "colab": {
          "base_uri": "https://localhost:8080/",
          "height": 539
        },
        "id": "HnTrpA-z8LIz",
        "outputId": "de49eb30-1481-4fe8-afac-df2e97effa09"
      },
      "execution_count": null,
      "outputs": [
        {
          "output_type": "execute_result",
          "data": {
            "text/plain": [
              "(array([0, 1, 2, 3, 4, 5, 6, 7, 8]),\n",
              " <a list of 9 Text major ticklabel objects>)"
            ]
          },
          "metadata": {},
          "execution_count": 145
        },
        {
          "output_type": "display_data",
          "data": {
            "text/plain": [
              "<Figure size 497.53x432 with 1 Axes>"
            ],
            "image/png": "[encoded data removed]"
          },
          "metadata": {}
        }
      ]
    },
    {
      "cell_type": "markdown",
      "source": [
        "#### One Hot Encoding"
      ],
      "metadata": {
        "id": "l-0cAw9ATXaC"
      }
    },
    {
      "cell_type": "code",
      "source": [
        "from sklearn.preprocessing import OneHotEncoder\n",
        "ohe = OneHotEncoder()\n",
        "transformed = ohe.fit_transform(df[['gender']])\n",
        "df[ohe.categories_[0]] = transformed.toarray()\n",
        "df.drop('gender',axis=1,inplace=True)\n",
        "def onehot(x):\n",
        "  transformed = ohe.fit_transform(df[[str(x)]])\n",
        "  df[ohe.categories_[0]] = transformed.toarray()\n",
        "objects=list(df.dtypes[df.dtypes=='object'].index)\n",
        "rm=['joining_date','last_visit_time']\n",
        "objects = [ele for ele in objects if ele not in rm]\n",
        "objects\n",
        "for i in objects:\n",
        "  onehot(i)\n",
        "df.drop(objects,axis=1,inplace=True)\n",
        "df.rename({'F':'Female','M':'Male'},axis=1,inplace=True)\n",
        "df.drop('used_special_discount',axis=1,inplace=True)\n",
        "df.columns"
      ],
      "metadata": {
        "id": "K_DKrlgmamsE",
        "colab": {
          "base_uri": "https://localhost:8080/"
        },
        "outputId": "22b4149a-184a-47a8-a6d8-1fb7d14fbb35"
      },
      "execution_count": null,
      "outputs": [
        {
          "output_type": "execute_result",
          "data": {
            "text/plain": [
              "Index(['age', 'membership_category', 'joined_through_referral',\n",
              "       'days_since_last_login', 'avg_time_spent', 'avg_transaction_value',\n",
              "       'avg_frequency_login_days', 'points_in_wallet', 'used_special_discount',\n",
              "       'offer_application_preference', 'past_complaint', 'churn_risk_score',\n",
              "       'days_joined', 'hour_of_the_day', 'Female', 'Male', 'City', 'Town',\n",
              "       'Village', 'other_region', 'Credit/Debit Card Offers',\n",
              "       'Gift Vouchers/Coupons', 'Without Offers', 'Both', 'Desktop',\n",
              "       'Smartphone', 'other_mop', 'Fiber_Optic', 'Mobile_Data', 'Wi-Fi',\n",
              "       'No Information Available', 'Not Applicable', 'Solved',\n",
              "       'Solved in Follow-up', 'Unsolved', 'No reason specified',\n",
              "       'Poor Customer Service', 'Poor Product Quality', 'Poor Website',\n",
              "       'Products always in Stock', 'Quality Customer Care', 'Reasonable Price',\n",
              "       'Too many ads', 'User Friendly Website'],\n",
              "      dtype='object')"
            ]
          },
          "metadata": {},
          "execution_count": 146
        }
      ]
    },
    {
      "cell_type": "markdown",
      "source": [
        "### Feature Selection"
      ],
      "metadata": {
        "id": "5qbBBXBhT6G3"
      }
    },
    {
      "cell_type": "code",
      "source": [
        "independent_variables=df.columns.values.tolist()\n",
        "\n",
        "independent_variables.remove('churn_risk_score')\n",
        "\n",
        "independent_variables\n",
        "\n",
        "X=df[independent_variables].values\n",
        "\n",
        "X"
      ],
      "metadata": {
        "colab": {
          "base_uri": "https://localhost:8080/"
        },
        "id": "KiDRHgC5irDn",
        "outputId": "5c98f56c-7b02-4f0d-c241-4f649a9412bd"
      },
      "execution_count": null,
      "outputs": [
        {
          "output_type": "execute_result",
          "data": {
            "text/plain": [
              "array([[18.,  4.,  0., ...,  0.,  0.,  0.],\n",
              "       [32.,  5.,  1., ...,  0.,  0.,  0.],\n",
              "       [44.,  0.,  1., ...,  0.,  0.,  0.],\n",
              "       ...,\n",
              "       [23.,  1.,  1., ...,  0.,  0.,  0.],\n",
              "       [53.,  4.,  0., ...,  0.,  0.,  0.],\n",
              "       [35.,  2.,  0., ...,  0.,  0.,  0.]])"
            ]
          },
          "metadata": {},
          "execution_count": 147
        }
      ]
    },
    {
      "cell_type": "code",
      "source": [
        "from sklearn.preprocessing import StandardScaler\n",
        "from sklearn.decomposition import PCA\n",
        "scale= StandardScaler()\n",
        "X = scale.fit_transform(X)\n",
        "pca=PCA()\n",
        "principalComponents = pca.fit_transform(X)\n",
        "z_values = pd.DataFrame(data = principalComponents)\n",
        "\n",
        "\n",
        "z_values.loc['Explained Variance']=pca.explained_variance_\n",
        "z_values.loc['Proportion Variance']=pca.explained_variance_ratio_\n",
        "z_values.loc['Cumulative Proportion of Variance']=np.cumsum(pca.explained_variance_ratio_)\n",
        "\n",
        "\n",
        "z_values.columns=[x for x in range(1,44)]\n",
        "cum_var = z_values.loc['Cumulative Proportion of Variance']\n",
        "cum_var"
      ],
      "metadata": {
        "colab": {
          "base_uri": "https://localhost:8080/"
        },
        "id": "dHDMe42QhXOj",
        "outputId": "b8527b79-6852-4ab9-a3f6-c63a44403134"
      },
      "execution_count": null,
      "outputs": [
        {
          "output_type": "execute_result",
          "data": {
            "text/plain": [
              "1     0.059957\n",
              "2     0.107615\n",
              "3     0.154141\n",
              "4     0.196338\n",
              "5     0.233598\n",
              "6     0.270295\n",
              "7     0.305551\n",
              "8     0.340428\n",
              "9     0.375239\n",
              "10    0.409783\n",
              "11    0.443782\n",
              "12    0.473448\n",
              "13    0.501926\n",
              "14    0.529985\n",
              "15    0.558021\n",
              "16    0.586053\n",
              "17    0.613992\n",
              "18    0.640941\n",
              "19    0.667507\n",
              "20    0.694006\n",
              "21    0.720420\n",
              "22    0.744701\n",
              "23    0.768931\n",
              "24    0.793082\n",
              "25    0.816829\n",
              "26    0.840317\n",
              "27    0.863515\n",
              "28    0.886422\n",
              "29    0.908925\n",
              "30    0.931213\n",
              "31    0.951645\n",
              "32    0.969127\n",
              "33    0.985490\n",
              "34    0.996157\n",
              "35    1.000000\n",
              "36    1.000000\n",
              "37    1.000000\n",
              "38    1.000000\n",
              "39    1.000000\n",
              "40    1.000000\n",
              "41    1.000000\n",
              "42    1.000000\n",
              "43    1.000000\n",
              "Name: Cumulative Proportion of Variance, dtype: float64"
            ]
          },
          "metadata": {},
          "execution_count": 148
        }
      ]
    },
    {
      "cell_type": "markdown",
      "source": [
        "Looking at the variance score, we can say that PCA is not good for this dataset as the variables are already independent"
      ],
      "metadata": {
        "id": "uvwNVr_sT-zp"
      }
    },
    {
      "cell_type": "markdown",
      "source": [
        "#### Standardizing the dataset"
      ],
      "metadata": {
        "id": "cNBOgaUQVR5M"
      }
    },
    {
      "cell_type": "code",
      "source": [
        "from sklearn.model_selection import train_test_split\n",
        "\n",
        "features=df.iloc[:,df.columns!='churn_risk_score']\n",
        "target=df['churn_risk_score']\n",
        "\n",
        "\n",
        "X_train, X_test, y_train, y_test = train_test_split(features, target , test_size=0.25, random_state=42)\n",
        "\n",
        "scaler=StandardScaler()\n",
        "X_train=scaler.fit_transform(X_train)\n",
        "X_test=scaler.transform(X_test)"
      ],
      "metadata": {
        "id": "TyU4jvkdllw8"
      },
      "execution_count": null,
      "outputs": []
    },
    {
      "cell_type": "code",
      "source": [
        "print(X_train.shape)\n",
        "print(X_test.shape)"
      ],
      "metadata": {
        "colab": {
          "base_uri": "https://localhost:8080/"
        },
        "id": "ZNoCPR27znnv",
        "outputId": "545a6504-dfb4-499f-98c6-1445344cd5ef"
      },
      "execution_count": null,
      "outputs": [
        {
          "output_type": "stream",
          "name": "stdout",
          "text": [
            "(27744, 43)\n",
            "(9248, 43)\n"
          ]
        }
      ]
    },
    {
      "cell_type": "markdown",
      "source": [
        "### Model Exploration"
      ],
      "metadata": {
        "id": "_Aage1EVVWr9"
      }
    },
    {
      "cell_type": "markdown",
      "source": [
        "#### Logistic Regression"
      ],
      "metadata": {
        "id": "W_X9HPOwbueK"
      }
    },
    {
      "cell_type": "code",
      "source": [
        "from sklearn.linear_model import LogisticRegression\n",
        "from sklearn.metrics import classification_report\n",
        "from sklearn.metrics import roc_curve\n",
        "from sklearn.metrics import auc\n",
        "from sklearn import metrics\n",
        "!pip install scikit-plot\n",
        "import scikitplot as skplt\n",
        "import matplotlib.pyplot as plt"
      ],
      "metadata": {
        "colab": {
          "base_uri": "https://localhost:8080/"
        },
        "id": "HX0HZAbIdItz",
        "outputId": "1d72946c-b45a-43fa-92e8-62da27584a39"
      },
      "execution_count": null,
      "outputs": [
        {
          "output_type": "stream",
          "name": "stdout",
          "text": [
            "Looking in indexes: https://pypi.org/simple, https://us-python.pkg.dev/colab-wheels/public/simple/\n",
            "Requirement already satisfied: scikit-plot in /usr/local/lib/python3.7/dist-packages (0.3.7)\n",
            "Requirement already satisfied: matplotlib>=1.4.0 in /usr/local/lib/python3.7/dist-packages (from scikit-plot) (3.2.2)\n",
            "Requirement already satisfied: joblib>=0.10 in /usr/local/lib/python3.7/dist-packages (from scikit-plot) (1.1.0)\n",
            "Requirement already satisfied: scipy>=0.9 in /usr/local/lib/python3.7/dist-packages (from scikit-plot) (1.4.1)\n",
            "Requirement already satisfied: scikit-learn>=0.18 in /usr/local/lib/python3.7/dist-packages (from scikit-plot) (1.0.2)\n",
            "Requirement already satisfied: pyparsing!=2.0.4,!=2.1.2,!=2.1.6,>=2.0.1 in /usr/local/lib/python3.7/dist-packages (from matplotlib>=1.4.0->scikit-plot) (3.0.9)\n",
            "Requirement already satisfied: numpy>=1.11 in /usr/local/lib/python3.7/dist-packages (from matplotlib>=1.4.0->scikit-plot) (1.21.6)\n",
            "Requirement already satisfied: python-dateutil>=2.1 in /usr/local/lib/python3.7/dist-packages (from matplotlib>=1.4.0->scikit-plot) (2.8.2)\n",
            "Requirement already satisfied: cycler>=0.10 in /usr/local/lib/python3.7/dist-packages (from matplotlib>=1.4.0->scikit-plot) (0.11.0)\n",
            "Requirement already satisfied: kiwisolver>=1.0.1 in /usr/local/lib/python3.7/dist-packages (from matplotlib>=1.4.0->scikit-plot) (1.4.3)\n",
            "Requirement already satisfied: typing-extensions in /usr/local/lib/python3.7/dist-packages (from kiwisolver>=1.0.1->matplotlib>=1.4.0->scikit-plot) (4.1.1)\n",
            "Requirement already satisfied: six>=1.5 in /usr/local/lib/python3.7/dist-packages (from python-dateutil>=2.1->matplotlib>=1.4.0->scikit-plot) (1.15.0)\n",
            "Requirement already satisfied: threadpoolctl>=2.0.0 in /usr/local/lib/python3.7/dist-packages (from scikit-learn>=0.18->scikit-plot) (3.1.0)\n"
          ]
        }
      ]
    },
    {
      "cell_type": "code",
      "source": [
        "lr=LogisticRegression()\n",
        "lr.fit(X_train,y_train)\n",
        "y_pred=lr.predict(X_test)\n",
        "print(classification_report(y_test,y_pred))\n",
        "cm = metrics.confusion_matrix(y_test, y_pred)\n",
        "print(cm)\n",
        "\n",
        "lr_accuracy=pd.Series(metrics.accuracy_score(y_test,y_pred))\n"
      ],
      "metadata": {
        "colab": {
          "base_uri": "https://localhost:8080/"
        },
        "id": "msA7t488lluY",
        "outputId": "67c91528-dca9-41b5-bee8-4c414c0df39c"
      },
      "execution_count": null,
      "outputs": [
        {
          "output_type": "stream",
          "name": "stdout",
          "text": [
            "              precision    recall  f1-score   support\n",
            "\n",
            "           0       0.86      0.81      0.83      4240\n",
            "           1       0.85      0.89      0.87      5008\n",
            "\n",
            "    accuracy                           0.85      9248\n",
            "   macro avg       0.85      0.85      0.85      9248\n",
            "weighted avg       0.85      0.85      0.85      9248\n",
            "\n",
            "[[3445  795]\n",
            " [ 569 4439]]\n"
          ]
        }
      ]
    },
    {
      "cell_type": "code",
      "source": [
        "y_scores = lr.predict_proba(X_test)\n",
        "fpr, tpr, threshold = roc_curve(y_test, y_scores[:, 1])\n",
        "roc_auc = auc(fpr, tpr)\n",
        "\n",
        "plt.title('Receiver Operating Characteristic')\n",
        "plt.plot(fpr, tpr, 'b', label = 'AUC = %0.2f' % roc_auc)\n",
        "plt.legend(loc = 'lower right')\n",
        "plt.plot([0, 1], [0, 1],'r--')\n",
        "\n",
        "plt.ylabel('True Positive Rate')\n",
        "plt.xlabel('False Positive Rate')\n",
        "plt.title('ROC Curve of Logistic Regression')\n",
        "plt.show()\n"
      ],
      "metadata": {
        "colab": {
          "base_uri": "https://localhost:8080/",
          "height": 339
        },
        "id": "Z-ABOt79b7IG",
        "outputId": "bb1a9b1c-a09d-414c-b147-61c3b69c8c73"
      },
      "execution_count": null,
      "outputs": [
        {
          "output_type": "display_data",
          "data": {
            "text/plain": [
              "<Figure size 360x360 with 1 Axes>"
            ],
            "image/png": "[encoded data removed]"
          },
          "metadata": {}
        }
      ]
    },
    {
      "cell_type": "markdown",
      "source": [
        "#### KNN"
      ],
      "metadata": {
        "id": "2_E6limnb8_r"
      }
    },
    {
      "cell_type": "code",
      "source": [
        "from sklearn.neighbors import KNeighborsClassifier\n",
        "\n",
        "no_neighbors = np.arange(1, 15)\n",
        "validate_accuracy = np.empty(len(no_neighbors))\n",
        "\n",
        "for i, k in enumerate(no_neighbors):\n",
        "    # We instantiate the classifier\n",
        "    knn = KNeighborsClassifier(n_neighbors=k)\n",
        "    # Fit the classifier to the training data\n",
        "    knn.fit(X_train,y_train)\n",
        "    \n",
        "    # Compute accuracy on the testing set\n",
        "    validate_accuracy[i] = knn.score(X_test, y_test)\n",
        "\n",
        "# Visualization of k values vs accuracy\n",
        "\n",
        "plt.title('k-NN: Varying Number of Neighbors')\n",
        "plt.plot(no_neighbors, validate_accuracy, label = 'Training Accuracy')\n",
        "plt.legend()\n",
        "plt.xlabel('Number of Neighbors')\n",
        "plt.ylabel('Accuracy')\n",
        "plt.show()"
      ],
      "metadata": {
        "colab": {
          "base_uri": "https://localhost:8080/",
          "height": 339
        },
        "id": "o_PgfKH7llp9",
        "outputId": "40077497-d8bc-4a88-c239-b20d2e241bfc"
      },
      "execution_count": null,
      "outputs": [
        {
          "output_type": "display_data",
          "data": {
            "text/plain": [
              "<Figure size 360x360 with 1 Axes>"
            ],
            "image/png": "[encoded data removed]"
          },
          "metadata": {}
        }
      ]
    },
    {
      "cell_type": "code",
      "source": [
        "knn = KNeighborsClassifier(n_neighbors=9)\n",
        "knn.fit(X_train,y_train)\n",
        "y_pred=knn.predict(X_test)\n",
        "cm = metrics.confusion_matrix(y_test, y_pred)\n",
        "print(cm)\n",
        "y_scores=knn.get_params()\n",
        "knn_accuracy=metrics.accuracy_score(y_test,y_pred)\n",
        "print(classification_report(y_test,y_pred))"
      ],
      "metadata": {
        "colab": {
          "base_uri": "https://localhost:8080/"
        },
        "id": "v3juMZgivqCN",
        "outputId": "1bfd3d5b-500f-4cfe-ade8-5558c0a952f6"
      },
      "execution_count": null,
      "outputs": [
        {
          "output_type": "stream",
          "name": "stdout",
          "text": [
            "[[2667 1573]\n",
            " [ 423 4585]]\n",
            "              precision    recall  f1-score   support\n",
            "\n",
            "           0       0.86      0.63      0.73      4240\n",
            "           1       0.74      0.92      0.82      5008\n",
            "\n",
            "    accuracy                           0.78      9248\n",
            "   macro avg       0.80      0.77      0.77      9248\n",
            "weighted avg       0.80      0.78      0.78      9248\n",
            "\n"
          ]
        }
      ]
    },
    {
      "cell_type": "code",
      "source": [
        "y_scores = knn.predict_proba(X_test)\n",
        "fpr, tpr, threshold = roc_curve(y_test, y_scores[:, 1])\n",
        "roc_auc = auc(fpr, tpr)\n",
        "\n",
        "plt.title('Receiver Operating Characteristic')\n",
        "plt.plot(fpr, tpr, 'b', label = 'AUC = %0.2f' % roc_auc)\n",
        "plt.legend(loc = 'lower right')\n",
        "plt.plot([0, 1], [0, 1],'r--')\n",
        "\n",
        "plt.ylabel('True Positive Rate')\n",
        "plt.xlabel('False Positive Rate')\n",
        "plt.title('ROC Curve of kNN')\n",
        "plt.show()\n"
      ],
      "metadata": {
        "colab": {
          "base_uri": "https://localhost:8080/",
          "height": 339
        },
        "id": "Dag6jMYGXFf4",
        "outputId": "79c0e032-256f-451d-9346-64480aa5154d"
      },
      "execution_count": null,
      "outputs": [
        {
          "output_type": "display_data",
          "data": {
            "text/plain": [
              "<Figure size 360x360 with 1 Axes>"
            ],
            "image/png": "[encoded data removed]"
          },
          "metadata": {}
        }
      ]
    },
    {
      "cell_type": "markdown",
      "source": [
        "#### Naive Bayes"
      ],
      "metadata": {
        "id": "XM_SUeLpb_Lw"
      }
    },
    {
      "cell_type": "code",
      "source": [
        "from sklearn.naive_bayes import GaussianNB\n",
        "\n",
        "gnb = GaussianNB()\n",
        "gnb.fit(X_train, y_train)\n",
        "y_pred = gnb.predict(X_test)\n",
        "cm = metrics.confusion_matrix(y_test, y_pred)\n",
        "print(cm)\n",
        "print(classification_report(y_pred,y_test))\n",
        "nb_accuracy=metrics.accuracy_score(y_test,y_pred)"
      ],
      "metadata": {
        "colab": {
          "base_uri": "https://localhost:8080/"
        },
        "id": "SdgjBiYwlloA",
        "outputId": "71a4f63f-f101-4e23-da1e-99260ae808da"
      },
      "execution_count": null,
      "outputs": [
        {
          "output_type": "stream",
          "name": "stdout",
          "text": [
            "[[1378 2862]\n",
            " [   0 5008]]\n",
            "              precision    recall  f1-score   support\n",
            "\n",
            "           0       0.33      1.00      0.49      1378\n",
            "           1       1.00      0.64      0.78      7870\n",
            "\n",
            "    accuracy                           0.69      9248\n",
            "   macro avg       0.66      0.82      0.63      9248\n",
            "weighted avg       0.90      0.69      0.73      9248\n",
            "\n"
          ]
        }
      ]
    },
    {
      "cell_type": "code",
      "source": [
        "y_scores = gnb.predict_proba(X_test)\n",
        "fpr, tpr, threshold = roc_curve(y_test, y_scores[:, 1])\n",
        "roc_auc = auc(fpr, tpr)\n",
        "\n",
        "plt.title('Receiver Operating Characteristic')\n",
        "plt.plot(fpr, tpr, 'b', label = 'AUC = %0.2f' % roc_auc)\n",
        "plt.legend(loc = 'lower right')\n",
        "plt.plot([0, 1], [0, 1],'r--')\n",
        "\n",
        "plt.ylabel('True Positive Rate')\n",
        "plt.xlabel('False Positive Rate')\n",
        "plt.title('ROC Curve of Naive Bayes')\n",
        "plt.show()"
      ],
      "metadata": {
        "colab": {
          "base_uri": "https://localhost:8080/",
          "height": 339
        },
        "id": "UHu5O5wQWBXj",
        "outputId": "7bb61312-ed77-475d-ffcd-195b2dc649ab"
      },
      "execution_count": null,
      "outputs": [
        {
          "output_type": "display_data",
          "data": {
            "text/plain": [
              "<Figure size 360x360 with 1 Axes>"
            ],
            "image/png": "[encoded data removed]"
          },
          "metadata": {}
        }
      ]
    },
    {
      "cell_type": "markdown",
      "source": [
        "#### Decision Tree"
      ],
      "metadata": {
        "id": "E-O4poZWcBM2"
      }
    },
    {
      "cell_type": "code",
      "source": [
        "from sklearn import tree\n",
        "\n",
        "dt=tree.DecisionTreeClassifier()\n",
        "dt.fit(X_train,y_train)\n",
        "y_pred=dt.predict(X_test)\n",
        "print(classification_report(y_pred,y_test))\n",
        "print(metrics.confusion_matrix(y_pred,y_test))\n",
        "dt_accuracy=metrics.accuracy_score(y_test,y_pred)"
      ],
      "metadata": {
        "colab": {
          "base_uri": "https://localhost:8080/"
        },
        "id": "1bVqm6C7lll4",
        "outputId": "4d4ecf45-a62f-409e-c7b3-4ffd187570f6"
      },
      "execution_count": null,
      "outputs": [
        {
          "output_type": "stream",
          "name": "stdout",
          "text": [
            "              precision    recall  f1-score   support\n",
            "\n",
            "           0       0.91      0.90      0.90      4279\n",
            "           1       0.91      0.92      0.92      4969\n",
            "\n",
            "    accuracy                           0.91      9248\n",
            "   macro avg       0.91      0.91      0.91      9248\n",
            "weighted avg       0.91      0.91      0.91      9248\n",
            "\n",
            "[[3842  437]\n",
            " [ 398 4571]]\n"
          ]
        }
      ]
    },
    {
      "cell_type": "code",
      "source": [
        "y_scores = dt.predict_proba(X_test)\n",
        "fpr, tpr, threshold = roc_curve(y_test, y_scores[:, 1])\n",
        "roc_auc = auc(fpr, tpr)\n",
        "\n",
        "plt.title('Receiver Operating Characteristic')\n",
        "plt.plot(fpr, tpr, 'b', label = 'AUC = %0.2f' % roc_auc)\n",
        "plt.legend(loc = 'lower right')\n",
        "plt.plot([0, 1], [0, 1],'r--')\n",
        "\n",
        "plt.ylabel('True Positive Rate')\n",
        "plt.xlabel('False Positive Rate')\n",
        "plt.title('ROC Curve of Decision Tree')\n",
        "plt.show()"
      ],
      "metadata": {
        "colab": {
          "base_uri": "https://localhost:8080/",
          "height": 339
        },
        "id": "qoyOXDgL7gKc",
        "outputId": "db092d92-9b45-42bf-9e09-ad23a5e90458"
      },
      "execution_count": null,
      "outputs": [
        {
          "output_type": "display_data",
          "data": {
            "text/plain": [
              "<Figure size 360x360 with 1 Axes>"
            ],
            "image/png": "[encoded data removed]"
          },
          "metadata": {}
        }
      ]
    },
    {
      "cell_type": "markdown",
      "source": [
        "#### Neural Network"
      ],
      "metadata": {
        "id": "A0VIFXTvcC3G"
      }
    },
    {
      "cell_type": "code",
      "source": [
        "from sklearn.neural_network import MLPClassifier\n",
        "nn = MLPClassifier(hidden_layer_sizes=(44), random_state=1)\n",
        "nn.fit(X_train,y_train)\n",
        "y_pred=nn.predict(X_test)\n",
        "print(classification_report(y_pred,y_test))\n",
        "print(metrics.confusion_matrix(y_pred,y_test))\n",
        "nn_accuracy=metrics.accuracy_score(y_test,y_pred)"
      ],
      "metadata": {
        "id": "YOb2_id6llkO",
        "colab": {
          "base_uri": "https://localhost:8080/"
        },
        "outputId": "8a083d94-e790-4589-8a66-caa6e772b767"
      },
      "execution_count": null,
      "outputs": [
        {
          "output_type": "stream",
          "name": "stdout",
          "text": [
            "              precision    recall  f1-score   support\n",
            "\n",
            "           0       0.89      0.93      0.91      4046\n",
            "           1       0.94      0.91      0.92      5202\n",
            "\n",
            "    accuracy                           0.92      9248\n",
            "   macro avg       0.91      0.92      0.91      9248\n",
            "weighted avg       0.92      0.92      0.92      9248\n",
            "\n",
            "[[3754  292]\n",
            " [ 486 4716]]\n"
          ]
        },
        {
          "output_type": "stream",
          "name": "stderr",
          "text": [
            "/usr/local/lib/python3.7/dist-packages/sklearn/neural_network/_multilayer_perceptron.py:696: ConvergenceWarning: Stochastic Optimizer: Maximum iterations (200) reached and the optimization hasn't converged yet.\n",
            "  ConvergenceWarning,\n"
          ]
        }
      ]
    },
    {
      "cell_type": "code",
      "source": [
        "y_scores = nn.predict_proba(X_test)\n",
        "fpr, tpr, threshold = roc_curve(y_test, y_scores[:, 1])\n",
        "roc_auc = auc(fpr, tpr)\n",
        "\n",
        "plt.title('Receiver Operating Characteristic')\n",
        "plt.plot(fpr, tpr, 'b', label = 'AUC = %0.2f' % roc_auc)\n",
        "plt.legend(loc = 'lower right')\n",
        "plt.plot([0, 1], [0, 1],'r--')\n",
        "\n",
        "plt.ylabel('True Positive Rate')\n",
        "plt.xlabel('False Positive Rate')\n",
        "plt.title('ROC Curve of Neural Network')\n",
        "plt.show()\n"
      ],
      "metadata": {
        "id": "G2XX8tf3llfT",
        "colab": {
          "base_uri": "https://localhost:8080/",
          "height": 339
        },
        "outputId": "0fcb0e56-78a2-4ca9-efe9-bd9620eaea06"
      },
      "execution_count": null,
      "outputs": [
        {
          "output_type": "display_data",
          "data": {
            "text/plain": [
              "<Figure size 360x360 with 1 Axes>"
            ],
            "image/png": "[encoded data removed]"
          },
          "metadata": {}
        }
      ]
    },
    {
      "cell_type": "markdown",
      "source": [
        "### Performance Evaluation"
      ],
      "metadata": {
        "id": "0gKTqoIUVkrR"
      }
    },
    {
      "cell_type": "code",
      "source": [
        "total_accuracy=pd.DataFrame()\n",
        "total_accuracy['Logistic Regression']=lr_accuracy\n",
        "total_accuracy['KNN']=knn_accuracy\n",
        "total_accuracy['Naive Bayes']=nb_accuracy\n",
        "total_accuracy['Decision Tree']=dt_accuracy\n",
        "total_accuracy['Neural Network']=nn_accuracy\n",
        "total_accuracy"
      ],
      "metadata": {
        "id": "xXWNj2YcllZC",
        "colab": {
          "base_uri": "https://localhost:8080/",
          "height": 81
        },
        "outputId": "5853f198-0861-4a19-f8d7-9b6acabbe9f7"
      },
      "execution_count": null,
      "outputs": [
        {
          "output_type": "execute_result",
          "data": {
            "text/plain": [
              "   Logistic Regression      KNN  Naive Bayes  Decision Tree  Neural Network\n",
              "0             0.852509  0.78417     0.690528        0.90971        0.915874"
            ],
            "text/html": [
              "\n",
              "  <div id=\"df-1a897cee-738b-452c-a776-1f4e745c8420\">\n",
              "    <div class=\"colab-df-container\">\n",
              "      <div>\n",
              "<style scoped>\n",
              "    .dataframe tbody tr th:only-of-type {\n",
              "        vertical-align: middle;\n",
              "    }\n",
              "\n",
              "    .dataframe tbody tr th {\n",
              "        vertical-align: top;\n",
              "    }\n",
              "\n",
              "    .dataframe thead th {\n",
              "        text-align: right;\n",
              "    }\n",
              "</style>\n",
              "<table border=\"1\" class=\"dataframe\">\n",
              "  <thead>\n",
              "    <tr style=\"text-align: right;\">\n",
              "      <th></th>\n",
              "      <th>Logistic Regression</th>\n",
              "      <th>KNN</th>\n",
              "      <th>Naive Bayes</th>\n",
              "      <th>Decision Tree</th>\n",
              "      <th>Neural Network</th>\n",
              "    </tr>\n",
              "  </thead>\n",
              "  <tbody>\n",
              "    <tr>\n",
              "      <th>0</th>\n",
              "      <td>0.852509</td>\n",
              "      <td>0.78417</td>\n",
              "      <td>0.690528</td>\n",
              "      <td>0.90971</td>\n",
              "      <td>0.915874</td>\n",
              "    </tr>\n",
              "  </tbody>\n",
              "</table>\n",
              "</div>\n",
              "      <button class=\"colab-df-convert\" onclick=\"convertToInteractive('df-1a897cee-738b-452c-a776-1f4e745c8420')\"\n",
              "              title=\"Convert this dataframe to an interactive table.\"\n",
              "              style=\"display:none;\">\n",
              "        \n",
              "  <svg xmlns=\"http://www.w3.org/2000/svg\" height=\"24px\"viewBox=\"0 0 24 24\"\n",
              "       width=\"24px\">\n",
              "    <path d=\"M0 0h24v24H0V0z\" fill=\"none\"/>\n",
              "    <path d=\"M18.56 5.44l.94 2.06.94-2.06 2.06-.94-2.06-.94-.94-2.06-.94 2.06-2.06.94zm-11 1L8.5 8.5l.94-2.06 2.06-.94-2.06-.94L8.5 2.5l-.94 2.06-2.06.94zm10 10l.94 2.06.94-2.06 2.06-.94-2.06-.94-.94-2.06-.94 2.06-2.06.94z\"/><path d=\"M17.41 7.96l-1.37-1.37c-.4-.4-.92-.59-1.43-.59-.52 0-1.04.2-1.43.59L10.3 9.45l-7.72 7.72c-.78.78-.78 2.05 0 2.83L4 21.41c.39.39.9.59 1.41.59.51 0 1.02-.2 1.41-.59l7.78-7.78 2.81-2.81c.8-.78.8-2.07 0-2.86zM5.41 20L4 18.59l7.72-7.72 1.47 1.35L5.41 20z\"/>\n",
              "  </svg>\n",
              "      </button>\n",
              "      \n",
              "  <style>\n",
              "    .colab-df-container {\n",
              "      display:flex;\n",
              "      flex-wrap:wrap;\n",
              "      gap: 12px;\n",
              "    }\n",
              "\n",
              "    .colab-df-convert {\n",
              "      background-color: #E8F0FE;\n",
              "      border: none;\n",
              "      border-radius: 50%;\n",
              "      cursor: pointer;\n",
              "      display: none;\n",
              "      fill: #1967D2;\n",
              "      height: 32px;\n",
              "      padding: 0 0 0 0;\n",
              "      width: 32px;\n",
              "    }\n",
              "\n",
              "    .colab-df-convert:hover {\n",
              "      background-color: #E2EBFA;\n",
              "      box-shadow: 0px 1px 2px rgba(60, 64, 67, 0.3), 0px 1px 3px 1px rgba(60, 64, 67, 0.15);\n",
              "      fill: #174EA6;\n",
              "    }\n",
              "\n",
              "    [theme=dark] .colab-df-convert {\n",
              "      background-color: #3B4455;\n",
              "      fill: #D2E3FC;\n",
              "    }\n",
              "\n",
              "    [theme=dark] .colab-df-convert:hover {\n",
              "      background-color: #434B5C;\n",
              "      box-shadow: 0px 1px 3px 1px rgba(0, 0, 0, 0.15);\n",
              "      filter: drop-shadow(0px 1px 2px rgba(0, 0, 0, 0.3));\n",
              "      fill: #FFFFFF;\n",
              "    }\n",
              "  </style>\n",
              "\n",
              "      <script>\n",
              "        const buttonEl =\n",
              "          document.querySelector('#df-1a897cee-738b-452c-a776-1f4e745c8420 button.colab-df-convert');\n",
              "        buttonEl.style.display =\n",
              "          google.colab.kernel.accessAllowed ? 'block' : 'none';\n",
              "\n",
              "        async function convertToInteractive(key) {\n",
              "          const element = document.querySelector('#df-1a897cee-738b-452c-a776-1f4e745c8420');\n",
              "          const dataTable =\n",
              "            await google.colab.kernel.invokeFunction('convertToInteractive',\n",
              "                                                     [key], {});\n",
              "          if (!dataTable) return;\n",
              "\n",
              "          const docLinkHtml = 'Like what you see? Visit the ' +\n",
              "            '<a target=\"_blank\" href=https://colab.research.google.com/notebooks/data_table.ipynb>data table notebook</a>'\n",
              "            + ' to learn more about interactive tables.';\n",
              "          element.innerHTML = '';\n",
              "          dataTable['output_type'] = 'display_data';\n",
              "          await google.colab.output.renderOutput(dataTable, element);\n",
              "          const docLink = document.createElement('div');\n",
              "          docLink.innerHTML = docLinkHtml;\n",
              "          element.appendChild(docLink);\n",
              "        }\n",
              "      </script>\n",
              "    </div>\n",
              "  </div>\n",
              "  "
            ]
          },
          "metadata": {},
          "execution_count": 163
        }
      ]
    },
    {
      "cell_type": "code",
      "source": [
        "import seaborn as sns\n",
        "sns.barplot(data=total_accuracy).set(title='Comparision of model Accuracy')\n",
        "plt.xlabel('Models')\n",
        "plt.ylabel(\"Accuracy\")\n",
        "plt.rcParams[\"figure.figsize\"] = (5,5)"
      ],
      "metadata": {
        "colab": {
          "base_uri": "https://localhost:8080/",
          "height": 339
        },
        "id": "fbiioR0xd3H2",
        "outputId": "13e06a82-7fde-4a0c-a4a4-7a85d1fd8a7e"
      },
      "execution_count": null,
      "outputs": [
        {
          "output_type": "display_data",
          "data": {
            "text/plain": [
              "<Figure size 360x360 with 1 Axes>"
            ],
            "image/png": "[encoded data removed]"
          },
          "metadata": {}
        }
      ]
    },
    {
      "cell_type": "markdown",
      "source": [
        "Looking at the accuracy and sensitivity of the models and also considering the use case of our project, we can say that the Neural betworks will be the best model and we will be going further with this."
      ],
      "metadata": {
        "id": "cYMapHutVr1V"
      }
    }
  ]
}